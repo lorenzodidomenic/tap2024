{
 "cells": [
  {
   "cell_type": "markdown",
   "metadata": {
    "slideshow": {
     "slide_type": "slide"
    }
   },
   "source": [
    "<div class=\"jumbotron\">\n",
    "    <center>\n",
    "        <h1>Elastic Search</h1>\n",
    "        <h2>The heart of the free and open Elastic Stack</h2>\n",
    "    </center>\n",
    "</div>"
   ]
  },
  {
   "cell_type": "markdown",
   "metadata": {
    "slideshow": {
     "slide_type": "subslide"
    }
   },
   "source": [
    "## Elastic\n",
    "2024 \"AI - Headline\"\n",
    "\n",
    "- Dive into the industry’s first Search AI Lake\n",
    "- Low-latency, AI-optimized architecture. \n",
    "- Native vector database capabilities. \n",
    "- All new on Elastic Cloud Serverless.\n",
    "\n",
    "Elastic — The Search AI Company\n",
    "\n",
    "https://www.elastic.co/ "
   ]
  },
  {
   "cell_type": "markdown",
   "metadata": {
    "slideshow": {
     "slide_type": "subslide"
    }
   },
   "source": [
    "## Elasticsearch\n",
    "<center>\n",
    "<img src=\"images/elasticsearch-intro.png\"/>\n",
    "</center>"
   ]
  },
  {
   "cell_type": "markdown",
   "metadata": {
    "slideshow": {
     "slide_type": "subslide"
    }
   },
   "source": [
    "Elasticsearch is a distributed"
   ]
  },
  {
   "cell_type": "markdown",
   "metadata": {
    "cell_style": "split",
    "slideshow": {
     "slide_type": "fragment"
    }
   },
   "source": [
    "RESTful search "
   ]
  },
  {
   "cell_type": "markdown",
   "metadata": {
    "cell_style": "split",
    "slideshow": {
     "slide_type": "fragment"
    }
   },
   "source": [
    "analytics engine "
   ]
  },
  {
   "cell_type": "markdown",
   "metadata": {
    "slideshow": {
     "slide_type": "fragment"
    }
   },
   "source": [
    "capable of addressing a growing number of use cases. "
   ]
  },
  {
   "cell_type": "markdown",
   "metadata": {
    "slideshow": {
     "slide_type": "subslide"
    }
   },
   "source": [
    "As the heart of the Elastic Stack, \n",
    "it centrally stores your data for "
   ]
  },
  {
   "cell_type": "markdown",
   "metadata": {
    "slideshow": {
     "slide_type": "fragment"
    }
   },
   "source": [
    "- lightning fast search"
   ]
  },
  {
   "cell_type": "markdown",
   "metadata": {
    "slideshow": {
     "slide_type": "fragment"
    }
   },
   "source": [
    "- fine‑tuned relevancy"
   ]
  },
  {
   "cell_type": "markdown",
   "metadata": {
    "slideshow": {
     "slide_type": "fragment"
    }
   },
   "source": [
    "- powerful analytics "
   ]
  },
  {
   "cell_type": "markdown",
   "metadata": {
    "slideshow": {
     "slide_type": "fragment"
    }
   },
   "source": [
    "that scale with ease."
   ]
  },
  {
   "cell_type": "markdown",
   "metadata": {
    "slideshow": {
     "slide_type": "slide"
    }
   },
   "source": [
    "# Origin"
   ]
  },
  {
   "cell_type": "markdown",
   "metadata": {
    "cell_style": "split",
    "slideshow": {
     "slide_type": "subslide"
    }
   },
   "source": [
    "It started with a recipe app..."
   ]
  },
  {
   "cell_type": "markdown",
   "metadata": {
    "cell_style": "split",
    "slideshow": {
     "slide_type": "fragment"
    }
   },
   "source": [
    "![](https://i.imgflip.com/41pcjq.jpg)\n",
    "[NicsMeme](https://imgflip.com/i/41pcjq)\n",
    "[Tears and Sweet](https://dictionary.cambridge.org/dictionary/english/blood-sweat-and-tears)"
   ]
  },
  {
   "cell_type": "markdown",
   "metadata": {
    "slideshow": {
     "slide_type": "subslide"
    }
   },
   "source": [
    "In a London apartment, Shay Banon was looking for a job while his wife attended cooking school at Le Cordon Bleu. In his spare time, he started building a search engine for her growing list of recipes."
   ]
  },
  {
   "cell_type": "markdown",
   "metadata": {
    "slideshow": {
     "slide_type": "fragment"
    }
   },
   "source": [
    "His first iteration was called Compass. The second was Elasticsearch (with [Apache Lucene](https://lucene.apache.org/) under the hood). He open sourced Elasticsearch, created the #elasticsearch IRC channel, and waited for users to appear."
   ]
  },
  {
   "cell_type": "markdown",
   "metadata": {
    "slideshow": {
     "slide_type": "fragment"
    }
   },
   "source": [
    "The response was impressive. Users took to it naturally and easily. Adoption went through the roof, a community started to form, and people noticed — namely Steven Schuurman, Uri Boness, and Simon Willnauer. Together, they founded a search company."
   ]
  },
  {
   "cell_type": "markdown",
   "metadata": {
    "slideshow": {
     "slide_type": "subslide"
    }
   },
   "source": [
    "# Still number 1"
   ]
  },
  {
   "cell_type": "markdown",
   "metadata": {
    "cell_style": "split",
    "slideshow": {
     "slide_type": "fragment"
    }
   },
   "source": [
    "![](images/ES-Rank.png)\n",
    "https://db-engines.com/en/ranking/search+engine"
   ]
  },
  {
   "cell_type": "markdown",
   "metadata": {
    "cell_style": "split",
    "slideshow": {
     "slide_type": "fragment"
    }
   },
   "source": [
    "![](https://static.fanpage.it/wp-content/uploads/sites/34/2021/12/viva-ledilizia-1200x900.jpg)\n",
    "\n",
    "https://www.fanpage.it/innovazione/tecnologia/cose-viva-ledilizia-laccount-di-tiktok-che-commenta-costruzioni-e-cantieri/"
   ]
  },
  {
   "cell_type": "markdown",
   "metadata": {
    "slideshow": {
     "slide_type": "slide"
    }
   },
   "source": [
    "# Characteristics"
   ]
  },
  {
   "cell_type": "markdown",
   "metadata": {
    "slideshow": {
     "slide_type": "subslide"
    }
   },
   "source": [
    "## Query & Analyze\n",
    "Ask your data questions of all kinds"
   ]
  },
  {
   "cell_type": "markdown",
   "metadata": {
    "cell_style": "split",
    "slideshow": {
     "slide_type": "fragment"
    }
   },
   "source": [
    "### Search your way\n",
    "![](https://images.contentstack.io/v3/assets/bltefdd0b53724fa2ce/blt5cfd03e50d91fe0f/5e6157c725d22d7db56a574d/icon-search-ui-32-color.svg)\n",
    "Elasticsearch lets you perform and combine many types of searches \n",
    "- structured\n",
    "- unstructured\n",
    "- geo\n",
    "- metric \n",
    "- from a piped query language. \n"
   ]
  },
  {
   "cell_type": "markdown",
   "metadata": {
    "cell_style": "split",
    "slideshow": {
     "slide_type": "fragment"
    }
   },
   "source": [
    "### Analyze at scale\n",
    "![](https://images.contentstack.io/v3/assets/bltefdd0b53724fa2ce/blta28bdc6896c47075/5d0ca0cd77f34fd55839aeae/icon-scale-32-color.svg)\n",
    "It's one thing to find the 10 best documents to match your query. \n",
    "\n",
    "But how do you make sense of, say, a billion log lines? \n",
    "\n",
    "Elasticsearch aggregations let you zoom out to explore trends and patterns in your data."
   ]
  },
  {
   "cell_type": "markdown",
   "metadata": {
    "slideshow": {
     "slide_type": "subslide"
    }
   },
   "source": [
    "## Speed\n",
    "Elasticsearch is fast. Really, really fast."
   ]
  },
  {
   "cell_type": "markdown",
   "metadata": {
    "slideshow": {
     "slide_type": "subslide"
    }
   },
   "source": [
    "### Rapid results\n",
    "When you get answers instantly, your relationship with your data changes. \n",
    "\n",
    "You can afford to iterate and cover more ground"
   ]
  },
  {
   "cell_type": "markdown",
   "metadata": {
    "slideshow": {
     "slide_type": "subslide"
    }
   },
   "source": [
    "### Powerful design\n",
    "Being this fast isn't easy. \n",
    "\n",
    "We've implemented:\n",
    "- [inverted indices](https://en.wikipedia.org/wiki/Inverted_index) with [finite state transducers](https://en.wikipedia.org/wiki/Finite-state_transducer) for full-text querying\n",
    "- [BKD trees](https://en.wikipedia.org/wiki/K-D-B-tree) for storing numeric and geo data, \n",
    "- a [column store](https://www.elastic.co/blog/elasticsearch-as-a-column-store) for analytics."
   ]
  },
  {
   "cell_type": "markdown",
   "metadata": {
    "cell_style": "split",
    "slideshow": {
     "slide_type": "subslide"
    }
   },
   "source": [
    "### All-inclusive\n",
    "And since everything is indexed, you're never left with index envy. \n",
    "\n",
    "You can leverage and access all of your data at ludicrously awesome speeds."
   ]
  },
  {
   "cell_type": "code",
   "execution_count": 3,
   "metadata": {
    "cell_style": "split",
    "slideshow": {
     "slide_type": "fragment"
    }
   },
   "outputs": [
    {
     "name": "stdout",
     "output_type": "stream",
     "text": [
      "face\n"
     ]
    },
    {
     "data": {
      "text/html": [
       "<link href=\"https://fonts.googleapis.com/icon?family=Material+Icons\" rel=\"stylesheet\"><i class=\"material-icons\">face</i>"
      ],
      "text/plain": [
       "<IPython.core.display.HTML object>"
      ]
     },
     "execution_count": 3,
     "metadata": {},
     "output_type": "execute_result"
    }
   ],
   "source": [
    "import icon\n",
    "%icon face\n",
    "#https://google.github.io/material-design-icons/"
   ]
  },
  {
   "cell_type": "markdown",
   "metadata": {
    "slideshow": {
     "slide_type": "slide"
    }
   },
   "source": [
    "# Scalability"
   ]
  },
  {
   "cell_type": "markdown",
   "metadata": {
    "cell_style": "split",
    "slideshow": {
     "slide_type": "subslide"
    }
   },
   "source": [
    "**Run it on your laptop. Or hundreds of servers with petabytes of data.** \n",
    "\n",
    "Go from prototype to production seamlessly; you talk to Elasticsearch running on a single node the same way you would in a 300-node cluster.\n",
    "\n",
    "It scales horizontally to handle kajillions of events per second, while automatically managing how indices and queries are distributed across the cluster for oh-so-smooth operations."
   ]
  },
  {
   "cell_type": "markdown",
   "metadata": {
    "cell_style": "split",
    "slideshow": {
     "slide_type": "fragment"
    }
   },
   "source": [
    "![](https://images.contentstack.io/v3/assets/bltefdd0b53724fa2ce/blt8c328002d82e303e/5d0d573477f34fd55839b61f/illustration-elasticsearch-scalability-555.png)"
   ]
  },
  {
   "cell_type": "markdown",
   "metadata": {
    "slideshow": {
     "slide_type": "subslide"
    }
   },
   "source": [
    "## Relevance"
   ]
  },
  {
   "cell_type": "markdown",
   "metadata": {
    "cell_style": "split",
    "slideshow": {
     "slide_type": "subslide"
    }
   },
   "source": [
    "**Search across everything. Find that specific thing.** \n",
    "\n",
    "Rank your search results based on a variety of factors — from term frequency or recency to popularity and beyond. Mix and match these along with functions to fine tune how your results show up to your users.\n",
    "\n",
    "And because most of our users are human, Elasticsearch is equipped to handle human mistakes including complexities like typos."
   ]
  },
  {
   "cell_type": "markdown",
   "metadata": {
    "cell_style": "split",
    "slideshow": {
     "slide_type": "fragment"
    }
   },
   "source": [
    "![](https://images.contentstack.io/v3/assets/bltefdd0b53724fa2ce/blt15cb7cd2bbb4a45d/5d0d621bb0b16b1c530d3c1a/illustration-elasticsearch-relevance-555.png)"
   ]
  },
  {
   "cell_type": "markdown",
   "metadata": {
    "cell_style": "center",
    "slideshow": {
     "slide_type": "subslide"
    }
   },
   "source": [
    "# Resiliency"
   ]
  },
  {
   "cell_type": "markdown",
   "metadata": {
    "cell_style": "split",
    "slideshow": {
     "slide_type": "subslide"
    }
   },
   "source": [
    "**We cover the bases while you swing for the fences.** \n",
    "\n",
    "Hardware rebels. Networks partition. \n",
    "\n",
    "Elasticsearch detects failures to keep your cluster (and your data) safe and available. \n",
    "\n",
    "With cross-cluster replication, a secondary cluster can spring into action as a hot backup. \n",
    "\n",
    "Elasticsearch operates in a distributed environment designed from the ground up for perpetual peace of mind.\n",
    "\n"
   ]
  },
  {
   "cell_type": "markdown",
   "metadata": {
    "cell_style": "split",
    "slideshow": {
     "slide_type": "fragment"
    }
   },
   "source": [
    "![](https://images.contentstack.io/v3/assets/bltefdd0b53724fa2ce/blt61799e12d10f4581/5e6158f8dc0f1706df255d1c/illustration-elasticsearch-resiliency-555.png)"
   ]
  },
  {
   "cell_type": "markdown",
   "metadata": {
    "slideshow": {
     "slide_type": "subslide"
    }
   },
   "source": [
    "## Use Cases"
   ]
  },
  {
   "cell_type": "markdown",
   "metadata": {
    "slideshow": {
     "slide_type": "subslide"
    }
   },
   "source": [
    "Numbers, text, geo, structured, unstructured. All data types are welcome. \n",
    "\n",
    "Full-text search just scratches the surface of how companies around the world are relying on Elasticsearch to solve a variety of challenges. \n",
    "\n"
   ]
  },
  {
   "cell_type": "markdown",
   "metadata": {
    "slideshow": {
     "slide_type": "subslide"
    }
   },
   "source": [
    "![](images/ES-apps.png)"
   ]
  },
  {
   "cell_type": "markdown",
   "metadata": {
    "slideshow": {
     "slide_type": "subslide"
    }
   },
   "source": [
    "# Features"
   ]
  },
  {
   "cell_type": "markdown",
   "metadata": {
    "slideshow": {
     "slide_type": "subslide"
    }
   },
   "source": [
    "![](../images/ES-features.png)\n",
    "https://www.elastic.co/elasticsearch/features"
   ]
  },
  {
   "cell_type": "markdown",
   "metadata": {
    "slideshow": {
     "slide_type": "subslide"
    }
   },
   "source": [
    "## Client Libraries"
   ]
  },
  {
   "cell_type": "markdown",
   "metadata": {
    "cell_style": "split",
    "slideshow": {
     "slide_type": "subslide"
    }
   },
   "source": [
    "Interact with Elasticsearch in the programming language you choose"
   ]
  },
  {
   "cell_type": "markdown",
   "metadata": {
    "cell_style": "split",
    "slideshow": {
     "slide_type": "fragment"
    }
   },
   "source": [
    "Elasticsearch uses standard RESTful APIs and JSON. \n",
    "\n",
    "We also build and maintain clients in many languages such as Java, Python, .NET, SQL, and PHP. Plus, our community has contributed many more. They're easy to work with, feel natural to use, and, just like Elasticsearch, don't limit what you might want to do with them."
   ]
  },
  {
   "cell_type": "markdown",
   "metadata": {
    "slideshow": {
     "slide_type": "slide"
    }
   },
   "source": [
    "# Let's start using it\n",
    "https://www.elastic.co/guide/en/elasticsearch/reference/current/docker.html#docker\n",
    "\n",
    "Some highlights:\n",
    "- Use bind volumes"
   ]
  },
  {
   "cell_type": "markdown",
   "metadata": {
    "slideshow": {
     "slide_type": "subslide"
    }
   },
   "source": [
    "```bash\n",
    "docker run --name elasticsearch  -p 9200:9200 --rm -it -m 1GB -e \"discovery.type=single-node\" -e \"xpack.security.enabled=false\" docker.elastic.co/elasticsearch/elasticsearch:8.13.4\n",
    "```"
   ]
  },
  {
   "cell_type": "markdown",
   "metadata": {
    "slideshow": {
     "slide_type": "subslide"
    }
   },
   "source": [
    "# Does it work ?"
   ]
  },
  {
   "cell_type": "markdown",
   "metadata": {
    "slideshow": {
     "slide_type": "fragment"
    }
   },
   "source": [
    "http://192.168.45.65:9200/"
   ]
  },
  {
   "cell_type": "markdown",
   "metadata": {
    "slideshow": {
     "slide_type": "subslide"
    }
   },
   "source": [
    "Security Off -> Needs a meme for this -> challenge open"
   ]
  },
  {
   "cell_type": "markdown",
   "metadata": {
    "slideshow": {
     "slide_type": "subslide"
    }
   },
   "source": [
    "# Requests \n",
    "\n",
    "https://requests.readthedocs.io/en/master/"
   ]
  },
  {
   "cell_type": "markdown",
   "metadata": {
    "slideshow": {
     "slide_type": "subslide"
    }
   },
   "source": [
    "## Install"
   ]
  },
  {
   "cell_type": "code",
   "execution_count": 2,
   "metadata": {
    "slideshow": {
     "slide_type": "fragment"
    }
   },
   "outputs": [
    {
     "name": "stdout",
     "output_type": "stream",
     "text": [
      "Defaulting to user installation because normal site-packages is not writeable\n",
      "Requirement already satisfied: requests in /usr/lib/python3/dist-packages (2.25.1)\n"
     ]
    }
   ],
   "source": [
    "!pip install requests "
   ]
  },
  {
   "cell_type": "markdown",
   "metadata": {
    "slideshow": {
     "slide_type": "fragment"
    }
   },
   "source": [
    "## Import"
   ]
  },
  {
   "cell_type": "code",
   "execution_count": 4,
   "metadata": {
    "slideshow": {
     "slide_type": "fragment"
    }
   },
   "outputs": [],
   "source": [
    "import requests"
   ]
  },
  {
   "cell_type": "markdown",
   "metadata": {
    "slideshow": {
     "slide_type": "subslide"
    }
   },
   "source": [
    "# Let's put something in\n",
    "\n",
    "## A single record"
   ]
  },
  {
   "cell_type": "code",
   "execution_count": 5,
   "metadata": {
    "slideshow": {
     "slide_type": "subslide"
    }
   },
   "outputs": [
    {
     "data": {
      "text/plain": [
       "201"
      ]
     },
     "execution_count": 5,
     "metadata": {},
     "output_type": "execute_result"
    }
   ],
   "source": [
    "doc = \"\"\"{\n",
    "  \"name\": \"Salvo Nicotra\"\n",
    "}\"\"\"\n",
    "\n",
    "url=\"http://localhost:9200/tap/_doc/1\"\n",
    "headers = {'Content-type': 'application/json', 'Accept': 'text/plain'}\n",
    "\n",
    "r = requests.post(url,data=doc, headers=headers)\n",
    "r.status_code"
   ]
  },
  {
   "cell_type": "code",
   "execution_count": 6,
   "metadata": {},
   "outputs": [
    {
     "data": {
      "text/plain": [
       "'{\"_index\":\"tap\",\"_id\":\"1\",\"_version\":1,\"result\":\"created\",\"_shards\":{\"total\":2,\"successful\":1,\"failed\":0},\"_seq_no\":0,\"_primary_term\":1}'"
      ]
     },
     "execution_count": 6,
     "metadata": {},
     "output_type": "execute_result"
    }
   ],
   "source": [
    "r.text"
   ]
  },
  {
   "cell_type": "markdown",
   "metadata": {
    "slideshow": {
     "slide_type": "subslide"
    }
   },
   "source": [
    "# And get it back"
   ]
  },
  {
   "cell_type": "code",
   "execution_count": 7,
   "metadata": {
    "slideshow": {
     "slide_type": "subslide"
    }
   },
   "outputs": [
    {
     "data": {
      "text/plain": [
       "{'_index': 'tap',\n",
       " '_id': '1',\n",
       " '_version': 1,\n",
       " '_seq_no': 0,\n",
       " '_primary_term': 1,\n",
       " 'found': True,\n",
       " '_source': {'name': 'Salvo Nicotra'}}"
      ]
     },
     "execution_count": 7,
     "metadata": {},
     "output_type": "execute_result"
    }
   ],
   "source": [
    "url=\"http://localhost:9200/tap/_doc/1\"\n",
    "r = requests.get(url)\n",
    "r.json()\n"
   ]
  },
  {
   "cell_type": "markdown",
   "metadata": {
    "slideshow": {
     "slide_type": "subslide"
    }
   },
   "source": [
    "# Index more\n",
    "\n",
    "Bulk Upload allows to upload multiple records, usually batch with 1000 are a good starting point"
   ]
  },
  {
   "cell_type": "markdown",
   "metadata": {
    "slideshow": {
     "slide_type": "subslide"
    }
   },
   "source": [
    "```json\n",
    "{\n",
    "  \"account_number\": 1,\n",
    "  \"balance\": 39225,\n",
    "  \"firstname\": \"Amber\",\n",
    "  \"lastname\": \"Duke\",\n",
    "  \"age\": 32,\n",
    "  \"gender\": \"M\",\n",
    "  \"address\": \"880 Holmes Lane\",\n",
    "  \"employer\": \"Pyrami\",\n",
    "  \"email\": \"amberduke@pyrami.com\",\n",
    "  \"city\": \"Brogan\",\n",
    "  \"state\": \"IL\"\n",
    "}\n",
    "```\n",
    "[Accounts.json](https://github.com/linuxacademy/content-elasticsearch-deep-dive/blob/master/sample_data/accounts.json)"
   ]
  },
  {
   "cell_type": "code",
   "execution_count": null,
   "metadata": {
    "slideshow": {
     "slide_type": "subslide"
    }
   },
   "outputs": [],
   "source": [
    "%%bash\n",
    "wget https://raw.githubusercontent.com/linuxacademy/content-elasticsearch-deep-dive/master/sample_data/accounts.json\n",
    "curl -H \"Content-Type: application/json\" -XPOST \"localhost:9200/bank/_bulk?pretty&refresh\" --data-binary \"@accounts.json\""
   ]
  },
  {
   "cell_type": "markdown",
   "metadata": {
    "slideshow": {
     "slide_type": "subslide"
    }
   },
   "source": [
    "## Index Status"
   ]
  },
  {
   "cell_type": "code",
   "execution_count": 11,
   "metadata": {},
   "outputs": [
    {
     "data": {
      "text/plain": [
       "'health status index uuid                   pri rep docs.count docs.deleted store.size pri.store.size dataset.size\\nyellow open   bank  gAT9gVxfQGGxMhGPPAjttw   1   1       1000            0    372.8kb        372.8kb      372.8kb\\nyellow open   tap   HBdOyHeDQ8WbB94A6kgdGQ   1   1          1            0      4.7kb          4.7kb        4.7kb\\n'"
      ]
     },
     "execution_count": 11,
     "metadata": {},
     "output_type": "execute_result"
    }
   ],
   "source": [
    "r = requests.get('http://localhost:9200/_cat/indices?v')\n",
    "r.text"
   ]
  },
  {
   "cell_type": "markdown",
   "metadata": {
    "slideshow": {
     "slide_type": "subslide"
    }
   },
   "source": [
    "# Search \n",
    "Once you have ingested some data into an Elasticsearch index, you can search it by sending requests to the _search endpoint. To access the full suite of search capabilities, you use the Elasticsearch Query DSL to specify the search criteria in the request body. You specify the name of the index you want to search in the request URI.\n",
    "\n",
    "For example, the following request retrieves all documents in the bank index sorted by account number:"
   ]
  },
  {
   "cell_type": "code",
   "execution_count": 8,
   "metadata": {
    "slideshow": {
     "slide_type": "subslide"
    }
   },
   "outputs": [
    {
     "data": {
      "text/plain": [
       "{'took': 138,\n",
       " 'timed_out': False,\n",
       " '_shards': {'total': 1, 'successful': 1, 'skipped': 0, 'failed': 0},\n",
       " 'hits': {'total': {'value': 1000, 'relation': 'eq'},\n",
       "  'max_score': None,\n",
       "  'hits': [{'_index': 'bank',\n",
       "    '_id': '248',\n",
       "    '_score': None,\n",
       "    '_source': {'account_number': 248,\n",
       "     'balance': 49989,\n",
       "     'firstname': 'West',\n",
       "     'lastname': 'England',\n",
       "     'age': 36,\n",
       "     'gender': 'M',\n",
       "     'address': '717 Hendrickson Place',\n",
       "     'employer': 'Obliq',\n",
       "     'email': 'westengland@obliq.com',\n",
       "     'city': 'Maury',\n",
       "     'state': 'WA'},\n",
       "    'sort': [49989]},\n",
       "   {'_index': 'bank',\n",
       "    '_id': '854',\n",
       "    '_score': None,\n",
       "    '_source': {'account_number': 854,\n",
       "     'balance': 49795,\n",
       "     'firstname': 'Jimenez',\n",
       "     'lastname': 'Barry',\n",
       "     'age': 25,\n",
       "     'gender': 'F',\n",
       "     'address': '603 Cooper Street',\n",
       "     'employer': 'Verton',\n",
       "     'email': 'jimenezbarry@verton.com',\n",
       "     'city': 'Moscow',\n",
       "     'state': 'AL'},\n",
       "    'sort': [49795]},\n",
       "   {'_index': 'bank',\n",
       "    '_id': '240',\n",
       "    '_score': None,\n",
       "    '_source': {'account_number': 240,\n",
       "     'balance': 49741,\n",
       "     'firstname': 'Oconnor',\n",
       "     'lastname': 'Clay',\n",
       "     'age': 35,\n",
       "     'gender': 'F',\n",
       "     'address': '659 Highland Boulevard',\n",
       "     'employer': 'Franscene',\n",
       "     'email': 'oconnorclay@franscene.com',\n",
       "     'city': 'Kilbourne',\n",
       "     'state': 'NH'},\n",
       "    'sort': [49741]},\n",
       "   {'_index': 'bank',\n",
       "    '_id': '97',\n",
       "    '_score': None,\n",
       "    '_source': {'account_number': 97,\n",
       "     'balance': 49671,\n",
       "     'firstname': 'Karen',\n",
       "     'lastname': 'Trujillo',\n",
       "     'age': 40,\n",
       "     'gender': 'F',\n",
       "     'address': '512 Cumberland Walk',\n",
       "     'employer': 'Tsunamia',\n",
       "     'email': 'karentrujillo@tsunamia.com',\n",
       "     'city': 'Fredericktown',\n",
       "     'state': 'MO'},\n",
       "    'sort': [49671]},\n",
       "   {'_index': 'bank',\n",
       "    '_id': '842',\n",
       "    '_score': None,\n",
       "    '_source': {'account_number': 842,\n",
       "     'balance': 49587,\n",
       "     'firstname': 'Meagan',\n",
       "     'lastname': 'Buckner',\n",
       "     'age': 23,\n",
       "     'gender': 'F',\n",
       "     'address': '833 Bushwick Court',\n",
       "     'employer': 'Biospan',\n",
       "     'email': 'meaganbuckner@biospan.com',\n",
       "     'city': 'Craig',\n",
       "     'state': 'TX'},\n",
       "    'sort': [49587]},\n",
       "   {'_index': 'bank',\n",
       "    '_id': '168',\n",
       "    '_score': None,\n",
       "    '_source': {'account_number': 168,\n",
       "     'balance': 49568,\n",
       "     'firstname': 'Carissa',\n",
       "     'lastname': 'Simon',\n",
       "     'age': 20,\n",
       "     'gender': 'M',\n",
       "     'address': '975 Flatbush Avenue',\n",
       "     'employer': 'Zillacom',\n",
       "     'email': 'carissasimon@zillacom.com',\n",
       "     'city': 'Neibert',\n",
       "     'state': 'IL'},\n",
       "    'sort': [49568]},\n",
       "   {'_index': 'bank',\n",
       "    '_id': '803',\n",
       "    '_score': None,\n",
       "    '_source': {'account_number': 803,\n",
       "     'balance': 49567,\n",
       "     'firstname': 'Marissa',\n",
       "     'lastname': 'Spears',\n",
       "     'age': 25,\n",
       "     'gender': 'M',\n",
       "     'address': '963 Highland Avenue',\n",
       "     'employer': 'Centregy',\n",
       "     'email': 'marissaspears@centregy.com',\n",
       "     'city': 'Bloomington',\n",
       "     'state': 'MS'},\n",
       "    'sort': [49567]},\n",
       "   {'_index': 'bank',\n",
       "    '_id': '926',\n",
       "    '_score': None,\n",
       "    '_source': {'account_number': 926,\n",
       "     'balance': 49433,\n",
       "     'firstname': 'Welch',\n",
       "     'lastname': 'Mcgowan',\n",
       "     'age': 21,\n",
       "     'gender': 'M',\n",
       "     'address': '833 Quincy Street',\n",
       "     'employer': 'Atomica',\n",
       "     'email': 'welchmcgowan@atomica.com',\n",
       "     'city': 'Hampstead',\n",
       "     'state': 'VT'},\n",
       "    'sort': [49433]},\n",
       "   {'_index': 'bank',\n",
       "    '_id': '954',\n",
       "    '_score': None,\n",
       "    '_source': {'account_number': 954,\n",
       "     'balance': 49404,\n",
       "     'firstname': 'Jenna',\n",
       "     'lastname': 'Martin',\n",
       "     'age': 22,\n",
       "     'gender': 'M',\n",
       "     'address': '688 Hart Street',\n",
       "     'employer': 'Zinca',\n",
       "     'email': 'jennamartin@zinca.com',\n",
       "     'city': 'Oasis',\n",
       "     'state': 'MD'},\n",
       "    'sort': [49404]},\n",
       "   {'_index': 'bank',\n",
       "    '_id': '572',\n",
       "    '_score': None,\n",
       "    '_source': {'account_number': 572,\n",
       "     'balance': 49355,\n",
       "     'firstname': 'Therese',\n",
       "     'lastname': 'Espinoza',\n",
       "     'age': 20,\n",
       "     'gender': 'M',\n",
       "     'address': '994 Chester Court',\n",
       "     'employer': 'Gonkle',\n",
       "     'email': 'thereseespinoza@gonkle.com',\n",
       "     'city': 'Hayes',\n",
       "     'state': 'UT'},\n",
       "    'sort': [49355]}]}}"
      ]
     },
     "execution_count": 8,
     "metadata": {},
     "output_type": "execute_result"
    }
   ],
   "source": [
    "data = \"\"\"{\n",
    "  \"query\": { \"match_all\": {} },\n",
    "  \"sort\": [\n",
    "    { \"balance\": \"desc\" }\n",
    "  ]\n",
    "}\"\"\"\n",
    "\n",
    "url=\"http://localhost:9200/bank/_search?pretty\"\n",
    "\n",
    "headers = {'Content-type': 'application/json', 'Accept': 'text/plain'}\n",
    "\n",
    "r = requests.post(url,data=data, headers=headers)\n",
    "\n",
    "r.json()"
   ]
  },
  {
   "cell_type": "markdown",
   "metadata": {
    "slideshow": {
     "slide_type": "subslide"
    }
   },
   "source": [
    "## Search String\n",
    "\n",
    "To search for specific terms within a field, you can use a match query. For example, the following request searches the address field to find customers whose addresses contain mill or lane:"
   ]
  },
  {
   "cell_type": "code",
   "execution_count": 14,
   "metadata": {
    "slideshow": {
     "slide_type": "subslide"
    }
   },
   "outputs": [
    {
     "data": {
      "text/plain": [
       "{'took': 29,\n",
       " 'timed_out': False,\n",
       " '_shards': {'total': 1, 'successful': 1, 'skipped': 0, 'failed': 0},\n",
       " 'hits': {'total': {'value': 19, 'relation': 'eq'},\n",
       "  'max_score': 9.507477,\n",
       "  'hits': [{'_index': 'bank',\n",
       "    '_id': '136',\n",
       "    '_score': 9.507477,\n",
       "    '_source': {'account_number': 136,\n",
       "     'balance': 45801,\n",
       "     'firstname': 'Winnie',\n",
       "     'lastname': 'Holland',\n",
       "     'age': 38,\n",
       "     'gender': 'M',\n",
       "     'address': '198 Mill Lane',\n",
       "     'employer': 'Neteria',\n",
       "     'email': 'winnieholland@neteria.com',\n",
       "     'city': 'Urie',\n",
       "     'state': 'IL'}},\n",
       "   {'_index': 'bank',\n",
       "    '_id': '970',\n",
       "    '_score': 5.4032025,\n",
       "    '_source': {'account_number': 970,\n",
       "     'balance': 19648,\n",
       "     'firstname': 'Forbes',\n",
       "     'lastname': 'Wallace',\n",
       "     'age': 28,\n",
       "     'gender': 'M',\n",
       "     'address': '990 Mill Road',\n",
       "     'employer': 'Pheast',\n",
       "     'email': 'forbeswallace@pheast.com',\n",
       "     'city': 'Lopezo',\n",
       "     'state': 'AK'}},\n",
       "   {'_index': 'bank',\n",
       "    '_id': '345',\n",
       "    '_score': 5.4032025,\n",
       "    '_source': {'account_number': 345,\n",
       "     'balance': 9812,\n",
       "     'firstname': 'Parker',\n",
       "     'lastname': 'Hines',\n",
       "     'age': 38,\n",
       "     'gender': 'M',\n",
       "     'address': '715 Mill Avenue',\n",
       "     'employer': 'Baluba',\n",
       "     'email': 'parkerhines@baluba.com',\n",
       "     'city': 'Blackgum',\n",
       "     'state': 'KY'}},\n",
       "   {'_index': 'bank',\n",
       "    '_id': '472',\n",
       "    '_score': 5.4032025,\n",
       "    '_source': {'account_number': 472,\n",
       "     'balance': 25571,\n",
       "     'firstname': 'Lee',\n",
       "     'lastname': 'Long',\n",
       "     'age': 32,\n",
       "     'gender': 'F',\n",
       "     'address': '288 Mill Street',\n",
       "     'employer': 'Comverges',\n",
       "     'email': 'leelong@comverges.com',\n",
       "     'city': 'Movico',\n",
       "     'state': 'MT'}},\n",
       "   {'_index': 'bank',\n",
       "    '_id': '1',\n",
       "    '_score': 4.1042743,\n",
       "    '_source': {'account_number': 1,\n",
       "     'balance': 39225,\n",
       "     'firstname': 'Amber',\n",
       "     'lastname': 'Duke',\n",
       "     'age': 32,\n",
       "     'gender': 'M',\n",
       "     'address': '880 Holmes Lane',\n",
       "     'employer': 'Pyrami',\n",
       "     'email': 'amberduke@pyrami.com',\n",
       "     'city': 'Brogan',\n",
       "     'state': 'IL'}},\n",
       "   {'_index': 'bank',\n",
       "    '_id': '70',\n",
       "    '_score': 4.1042743,\n",
       "    '_source': {'account_number': 70,\n",
       "     'balance': 38172,\n",
       "     'firstname': 'Deidre',\n",
       "     'lastname': 'Thompson',\n",
       "     'age': 33,\n",
       "     'gender': 'F',\n",
       "     'address': '685 School Lane',\n",
       "     'employer': 'Netplode',\n",
       "     'email': 'deidrethompson@netplode.com',\n",
       "     'city': 'Chestnut',\n",
       "     'state': 'GA'}},\n",
       "   {'_index': 'bank',\n",
       "    '_id': '556',\n",
       "    '_score': 4.1042743,\n",
       "    '_source': {'account_number': 556,\n",
       "     'balance': 36420,\n",
       "     'firstname': 'Collier',\n",
       "     'lastname': 'Odonnell',\n",
       "     'age': 35,\n",
       "     'gender': 'M',\n",
       "     'address': '591 Nolans Lane',\n",
       "     'employer': 'Sultraxin',\n",
       "     'email': 'collierodonnell@sultraxin.com',\n",
       "     'city': 'Fulford',\n",
       "     'state': 'MD'}},\n",
       "   {'_index': 'bank',\n",
       "    '_id': '568',\n",
       "    '_score': 4.1042743,\n",
       "    '_source': {'account_number': 568,\n",
       "     'balance': 36628,\n",
       "     'firstname': 'Lesa',\n",
       "     'lastname': 'Maynard',\n",
       "     'age': 29,\n",
       "     'gender': 'F',\n",
       "     'address': '295 Whitty Lane',\n",
       "     'employer': 'Coash',\n",
       "     'email': 'lesamaynard@coash.com',\n",
       "     'city': 'Broadlands',\n",
       "     'state': 'VT'}},\n",
       "   {'_index': 'bank',\n",
       "    '_id': '715',\n",
       "    '_score': 4.1042743,\n",
       "    '_source': {'account_number': 715,\n",
       "     'balance': 23734,\n",
       "     'firstname': 'Tammi',\n",
       "     'lastname': 'Hodge',\n",
       "     'age': 24,\n",
       "     'gender': 'M',\n",
       "     'address': '865 Church Lane',\n",
       "     'employer': 'Netur',\n",
       "     'email': 'tammihodge@netur.com',\n",
       "     'city': 'Lacomb',\n",
       "     'state': 'KS'}},\n",
       "   {'_index': 'bank',\n",
       "    '_id': '449',\n",
       "    '_score': 4.1042743,\n",
       "    '_source': {'account_number': 449,\n",
       "     'balance': 41950,\n",
       "     'firstname': 'Barnett',\n",
       "     'lastname': 'Cantrell',\n",
       "     'age': 39,\n",
       "     'gender': 'F',\n",
       "     'address': '945 Bedell Lane',\n",
       "     'employer': 'Zentility',\n",
       "     'email': 'barnettcantrell@zentility.com',\n",
       "     'city': 'Swartzville',\n",
       "     'state': 'ND'}}]}}"
      ]
     },
     "execution_count": 14,
     "metadata": {},
     "output_type": "execute_result"
    }
   ],
   "source": [
    "data = \"\"\"{\n",
    "  \"query\": { \"match\": { \"address\": \"Mill Lane\" } }\n",
    "}\"\"\"\n",
    "\n",
    "url=\"http://localhost:9200/bank/_search?pretty\"\n",
    "\n",
    "headers = {'Content-type': 'application/json', 'Accept': 'text/plain'}\n",
    "\n",
    "r = requests.post(url,data=data, headers=headers)\n",
    "r.json()"
   ]
  },
  {
   "cell_type": "markdown",
   "metadata": {
    "slideshow": {
     "slide_type": "subslide"
    }
   },
   "source": [
    "# Search Exact\n",
    "\n",
    "To perform a phrase search rather than matching individual terms, you use match_phrase instead of match. For example, the following request only matches addresses that contain the phrase mill lane:"
   ]
  },
  {
   "cell_type": "code",
   "execution_count": 13,
   "metadata": {
    "slideshow": {
     "slide_type": "subslide"
    }
   },
   "outputs": [
    {
     "data": {
      "text/plain": [
       "{'took': 16,\n",
       " 'timed_out': False,\n",
       " '_shards': {'total': 1, 'successful': 1, 'skipped': 0, 'failed': 0},\n",
       " 'hits': {'total': {'value': 1, 'relation': 'eq'},\n",
       "  'max_score': 9.507477,\n",
       "  'hits': [{'_index': 'bank',\n",
       "    '_id': '136',\n",
       "    '_score': 9.507477,\n",
       "    '_source': {'account_number': 136,\n",
       "     'balance': 45801,\n",
       "     'firstname': 'Winnie',\n",
       "     'lastname': 'Holland',\n",
       "     'age': 38,\n",
       "     'gender': 'M',\n",
       "     'address': '198 Mill Lane',\n",
       "     'employer': 'Neteria',\n",
       "     'email': 'winnieholland@neteria.com',\n",
       "     'city': 'Urie',\n",
       "     'state': 'IL'}}]}}"
      ]
     },
     "execution_count": 13,
     "metadata": {},
     "output_type": "execute_result"
    }
   ],
   "source": [
    "data = \"\"\"{\n",
    "  \"query\": { \"match_phrase\": { \"address\": \"mill Lane\" } }\n",
    "}\"\"\"\n",
    "\n",
    "url=\"http://localhost:9200/bank/_search?pretty\"\n",
    "\n",
    "headers = {'Content-type': 'application/json', 'Accept': 'text/plain'}\n",
    "\n",
    "r = requests.post(url,data=data, headers=headers)\n",
    "r.json()"
   ]
  },
  {
   "cell_type": "markdown",
   "metadata": {
    "slideshow": {
     "slide_type": "subslide"
    }
   },
   "source": [
    "## Combine Multiple Query \n",
    "\n",
    "To construct more complex queries, you can use a bool query to combine multiple query criteria. You can designate criteria as required (must match), desirable (should match), or undesirable (must not match).\n",
    "\n",
    "For example, the following request searches the bank index for accounts that belong to customers who are 40 years old, but excludes anyone who lives in Idaho (ID)"
   ]
  },
  {
   "cell_type": "code",
   "execution_count": 15,
   "metadata": {
    "slideshow": {
     "slide_type": "subslide"
    }
   },
   "outputs": [
    {
     "data": {
      "text/plain": [
       "{'took': 17,\n",
       " 'timed_out': False,\n",
       " '_shards': {'total': 1, 'successful': 1, 'skipped': 0, 'failed': 0},\n",
       " 'hits': {'total': {'value': 20, 'relation': 'eq'},\n",
       "  'max_score': 1.707232,\n",
       "  'hits': [{'_index': 'bank',\n",
       "    '_id': '474',\n",
       "    '_score': 1.707232,\n",
       "    '_source': {'account_number': 474,\n",
       "     'balance': 35896,\n",
       "     'firstname': 'Obrien',\n",
       "     'lastname': 'Walton',\n",
       "     'age': 40,\n",
       "     'gender': 'F',\n",
       "     'address': '192 Ide Court',\n",
       "     'employer': 'Suremax',\n",
       "     'email': 'obrienwalton@suremax.com',\n",
       "     'city': 'Crucible',\n",
       "     'state': 'UT'}},\n",
       "   {'_index': 'bank',\n",
       "    '_id': '878',\n",
       "    '_score': 1.707232,\n",
       "    '_source': {'account_number': 878,\n",
       "     'balance': 49159,\n",
       "     'firstname': 'Battle',\n",
       "     'lastname': 'Blackburn',\n",
       "     'age': 40,\n",
       "     'gender': 'F',\n",
       "     'address': '234 Hendrix Street',\n",
       "     'employer': 'Zilphur',\n",
       "     'email': 'battleblackburn@zilphur.com',\n",
       "     'city': 'Wanamie',\n",
       "     'state': 'PA'}},\n",
       "   {'_index': 'bank',\n",
       "    '_id': '885',\n",
       "    '_score': 1.707232,\n",
       "    '_source': {'account_number': 885,\n",
       "     'balance': 31661,\n",
       "     'firstname': 'Valdez',\n",
       "     'lastname': 'Roberson',\n",
       "     'age': 40,\n",
       "     'gender': 'F',\n",
       "     'address': '227 Scholes Street',\n",
       "     'employer': 'Delphide',\n",
       "     'email': 'valdezroberson@delphide.com',\n",
       "     'city': 'Chilton',\n",
       "     'state': 'MT'}},\n",
       "   {'_index': 'bank',\n",
       "    '_id': '998',\n",
       "    '_score': 1.707232,\n",
       "    '_source': {'account_number': 998,\n",
       "     'balance': 16869,\n",
       "     'firstname': 'Letha',\n",
       "     'lastname': 'Baker',\n",
       "     'age': 40,\n",
       "     'gender': 'F',\n",
       "     'address': '206 Llama Court',\n",
       "     'employer': 'Dognosis',\n",
       "     'email': 'lethabaker@dognosis.com',\n",
       "     'city': 'Dunlo',\n",
       "     'state': 'WV'}},\n",
       "   {'_index': 'bank',\n",
       "    '_id': '165',\n",
       "    '_score': 1.707232,\n",
       "    '_source': {'account_number': 165,\n",
       "     'balance': 18956,\n",
       "     'firstname': 'Sims',\n",
       "     'lastname': 'Mckay',\n",
       "     'age': 40,\n",
       "     'gender': 'F',\n",
       "     'address': '205 Jackson Street',\n",
       "     'employer': 'Comtour',\n",
       "     'email': 'simsmckay@comtour.com',\n",
       "     'city': 'Tilden',\n",
       "     'state': 'DC'}},\n",
       "   {'_index': 'bank',\n",
       "    '_id': '177',\n",
       "    '_score': 1.707232,\n",
       "    '_source': {'account_number': 177,\n",
       "     'balance': 48972,\n",
       "     'firstname': 'Harris',\n",
       "     'lastname': 'Gross',\n",
       "     'age': 40,\n",
       "     'gender': 'F',\n",
       "     'address': '468 Suydam Street',\n",
       "     'employer': 'Kidstock',\n",
       "     'email': 'harrisgross@kidstock.com',\n",
       "     'city': 'Yettem',\n",
       "     'state': 'KY'}},\n",
       "   {'_index': 'bank',\n",
       "    '_id': '432',\n",
       "    '_score': 1.707232,\n",
       "    '_source': {'account_number': 432,\n",
       "     'balance': 28969,\n",
       "     'firstname': 'Preston',\n",
       "     'lastname': 'Ferguson',\n",
       "     'age': 40,\n",
       "     'gender': 'F',\n",
       "     'address': '239 Greenwood Avenue',\n",
       "     'employer': 'Bitendrex',\n",
       "     'email': 'prestonferguson@bitendrex.com',\n",
       "     'city': 'Idledale',\n",
       "     'state': 'ND'}},\n",
       "   {'_index': 'bank',\n",
       "    '_id': '792',\n",
       "    '_score': 1.707232,\n",
       "    '_source': {'account_number': 792,\n",
       "     'balance': 13109,\n",
       "     'firstname': 'Becky',\n",
       "     'lastname': 'Jimenez',\n",
       "     'age': 40,\n",
       "     'gender': 'F',\n",
       "     'address': '539 Front Street',\n",
       "     'employer': 'Isologia',\n",
       "     'email': 'beckyjimenez@isologia.com',\n",
       "     'city': 'Summertown',\n",
       "     'state': 'MI'}},\n",
       "   {'_index': 'bank',\n",
       "    '_id': '97',\n",
       "    '_score': 1.707232,\n",
       "    '_source': {'account_number': 97,\n",
       "     'balance': 49671,\n",
       "     'firstname': 'Karen',\n",
       "     'lastname': 'Trujillo',\n",
       "     'age': 40,\n",
       "     'gender': 'F',\n",
       "     'address': '512 Cumberland Walk',\n",
       "     'employer': 'Tsunamia',\n",
       "     'email': 'karentrujillo@tsunamia.com',\n",
       "     'city': 'Fredericktown',\n",
       "     'state': 'MO'}},\n",
       "   {'_index': 'bank',\n",
       "    '_id': '340',\n",
       "    '_score': 1.707232,\n",
       "    '_source': {'account_number': 340,\n",
       "     'balance': 42072,\n",
       "     'firstname': 'Juarez',\n",
       "     'lastname': 'Gutierrez',\n",
       "     'age': 40,\n",
       "     'gender': 'F',\n",
       "     'address': '802 Seba Avenue',\n",
       "     'employer': 'Billmed',\n",
       "     'email': 'juarezgutierrez@billmed.com',\n",
       "     'city': 'Malott',\n",
       "     'state': 'OH'}}]}}"
      ]
     },
     "execution_count": 15,
     "metadata": {},
     "output_type": "execute_result"
    }
   ],
   "source": [
    "data = \"\"\"{\n",
    "\n",
    "  \"query\": {\n",
    "    \"bool\": {\n",
    "      \"must\": [\n",
    "        { \"match\": { \"age\": \"40\" } },\n",
    "        { \"match\": { \"gender\": \"F\" } }\n",
    "      ],\n",
    "      \"must_not\": [\n",
    "        { \"match\": { \"state\": \"ID\" } }\n",
    "      ]\n",
    "    }\n",
    "  }\n",
    "}\"\"\"\n",
    "\n",
    "url=\"http://localhost:9200/bank/_search?pretty\"\n",
    "\n",
    "headers = {'Content-type': 'application/json', 'Accept': 'text/plain'}\n",
    "\n",
    "r = requests.post(url,data=data, headers=headers)\n",
    "r.json()"
   ]
  },
  {
   "cell_type": "markdown",
   "metadata": {
    "slideshow": {
     "slide_type": "subslide"
    }
   },
   "source": [
    "## Filters\n",
    "\n",
    "Each must, should, and must_not element in a Boolean query is referred to as a query clause. \n",
    "\n",
    "How well a document meets the criteria in each must or should clause contributes to the document’s relevance score. The higher the score, the better the document matches your search criteria. \n",
    "\n",
    "By default, Elasticsearch returns documents ranked by these relevance scores.\n",
    "\n",
    "The criteria in a must_not clause is treated as a filter. It affects whether or not the document is included in the results, but does not contribute to how documents are scored. You can also explicitly specify arbitrary filters to include or exclude documents based on structured data.\n",
    "\n",
    "For example, the following request uses a range filter to limit the results to accounts with a balance between 20,000 and 30,000 (inclusive)."
   ]
  },
  {
   "cell_type": "code",
   "execution_count": 16,
   "metadata": {
    "slideshow": {
     "slide_type": "subslide"
    }
   },
   "outputs": [
    {
     "data": {
      "text/plain": [
       "{'took': 16,\n",
       " 'timed_out': False,\n",
       " '_shards': {'total': 1, 'successful': 1, 'skipped': 0, 'failed': 0},\n",
       " 'hits': {'total': {'value': 217, 'relation': 'eq'},\n",
       "  'max_score': 1.0,\n",
       "  'hits': [{'_index': 'bank',\n",
       "    '_id': '49',\n",
       "    '_score': 1.0,\n",
       "    '_source': {'account_number': 49,\n",
       "     'balance': 29104,\n",
       "     'firstname': 'Fulton',\n",
       "     'lastname': 'Holt',\n",
       "     'age': 23,\n",
       "     'gender': 'F',\n",
       "     'address': '451 Humboldt Street',\n",
       "     'employer': 'Anocha',\n",
       "     'email': 'fultonholt@anocha.com',\n",
       "     'city': 'Sunriver',\n",
       "     'state': 'RI'}},\n",
       "   {'_index': 'bank',\n",
       "    '_id': '102',\n",
       "    '_score': 1.0,\n",
       "    '_source': {'account_number': 102,\n",
       "     'balance': 29712,\n",
       "     'firstname': 'Dena',\n",
       "     'lastname': 'Olson',\n",
       "     'age': 27,\n",
       "     'gender': 'F',\n",
       "     'address': '759 Newkirk Avenue',\n",
       "     'employer': 'Hinway',\n",
       "     'email': 'denaolson@hinway.com',\n",
       "     'city': 'Choctaw',\n",
       "     'state': 'NJ'}},\n",
       "   {'_index': 'bank',\n",
       "    '_id': '133',\n",
       "    '_score': 1.0,\n",
       "    '_source': {'account_number': 133,\n",
       "     'balance': 26135,\n",
       "     'firstname': 'Deena',\n",
       "     'lastname': 'Richmond',\n",
       "     'age': 36,\n",
       "     'gender': 'F',\n",
       "     'address': '646 Underhill Avenue',\n",
       "     'employer': 'Sunclipse',\n",
       "     'email': 'deenarichmond@sunclipse.com',\n",
       "     'city': 'Austinburg',\n",
       "     'state': 'SC'}},\n",
       "   {'_index': 'bank',\n",
       "    '_id': '140',\n",
       "    '_score': 1.0,\n",
       "    '_source': {'account_number': 140,\n",
       "     'balance': 26696,\n",
       "     'firstname': 'Cotton',\n",
       "     'lastname': 'Christensen',\n",
       "     'age': 32,\n",
       "     'gender': 'M',\n",
       "     'address': '878 Schermerhorn Street',\n",
       "     'employer': 'Prowaste',\n",
       "     'email': 'cottonchristensen@prowaste.com',\n",
       "     'city': 'Mayfair',\n",
       "     'state': 'LA'}},\n",
       "   {'_index': 'bank',\n",
       "    '_id': '203',\n",
       "    '_score': 1.0,\n",
       "    '_source': {'account_number': 203,\n",
       "     'balance': 21890,\n",
       "     'firstname': 'Eve',\n",
       "     'lastname': 'Wyatt',\n",
       "     'age': 33,\n",
       "     'gender': 'M',\n",
       "     'address': '435 Furman Street',\n",
       "     'employer': 'Assitia',\n",
       "     'email': 'evewyatt@assitia.com',\n",
       "     'city': 'Jamestown',\n",
       "     'state': 'MN'}},\n",
       "   {'_index': 'bank',\n",
       "    '_id': '239',\n",
       "    '_score': 1.0,\n",
       "    '_source': {'account_number': 239,\n",
       "     'balance': 25719,\n",
       "     'firstname': 'Chang',\n",
       "     'lastname': 'Boyer',\n",
       "     'age': 36,\n",
       "     'gender': 'M',\n",
       "     'address': '895 Brigham Street',\n",
       "     'employer': 'Qaboos',\n",
       "     'email': 'changboyer@qaboos.com',\n",
       "     'city': 'Belgreen',\n",
       "     'state': 'NH'}},\n",
       "   {'_index': 'bank',\n",
       "    '_id': '241',\n",
       "    '_score': 1.0,\n",
       "    '_source': {'account_number': 241,\n",
       "     'balance': 25379,\n",
       "     'firstname': 'Schroeder',\n",
       "     'lastname': 'Harrington',\n",
       "     'age': 26,\n",
       "     'gender': 'M',\n",
       "     'address': '610 Tapscott Avenue',\n",
       "     'employer': 'Otherway',\n",
       "     'email': 'schroederharrington@otherway.com',\n",
       "     'city': 'Ebro',\n",
       "     'state': 'TX'}},\n",
       "   {'_index': 'bank',\n",
       "    '_id': '246',\n",
       "    '_score': 1.0,\n",
       "    '_source': {'account_number': 246,\n",
       "     'balance': 28405,\n",
       "     'firstname': 'Katheryn',\n",
       "     'lastname': 'Foster',\n",
       "     'age': 21,\n",
       "     'gender': 'F',\n",
       "     'address': '259 Kane Street',\n",
       "     'employer': 'Quantalia',\n",
       "     'email': 'katherynfoster@quantalia.com',\n",
       "     'city': 'Bath',\n",
       "     'state': 'TX'}},\n",
       "   {'_index': 'bank',\n",
       "    '_id': '253',\n",
       "    '_score': 1.0,\n",
       "    '_source': {'account_number': 253,\n",
       "     'balance': 20240,\n",
       "     'firstname': 'Melissa',\n",
       "     'lastname': 'Gould',\n",
       "     'age': 31,\n",
       "     'gender': 'M',\n",
       "     'address': '440 Fuller Place',\n",
       "     'employer': 'Buzzopia',\n",
       "     'email': 'melissagould@buzzopia.com',\n",
       "     'city': 'Lumberton',\n",
       "     'state': 'MD'}},\n",
       "   {'_index': 'bank',\n",
       "    '_id': '277',\n",
       "    '_score': 1.0,\n",
       "    '_source': {'account_number': 277,\n",
       "     'balance': 29564,\n",
       "     'firstname': 'Romero',\n",
       "     'lastname': 'Lott',\n",
       "     'age': 31,\n",
       "     'gender': 'M',\n",
       "     'address': '456 Danforth Street',\n",
       "     'employer': 'Plasto',\n",
       "     'email': 'romerolott@plasto.com',\n",
       "     'city': 'Vincent',\n",
       "     'state': 'VT'}}]}}"
      ]
     },
     "execution_count": 16,
     "metadata": {},
     "output_type": "execute_result"
    }
   ],
   "source": [
    "data = \"\"\"{\n",
    "  \"query\": {\n",
    "    \"bool\": {\n",
    "      \"must\": { \"match_all\": {} },\n",
    "      \"filter\": {\n",
    "        \"range\": {\n",
    "          \"balance\": {\n",
    "            \"gte\": 20000,\n",
    "            \"lte\": 30000\n",
    "          }\n",
    "        }\n",
    "      }\n",
    "    }\n",
    "  }\n",
    "}\"\"\"\n",
    "\n",
    "url=\"http://localhost:9200/bank/_search?pretty\"\n",
    "\n",
    "headers = {'Content-type': 'application/json', 'Accept': 'text/plain'}\n",
    "\n",
    "r = requests.post(url,data=data, headers=headers)\n",
    "r.json()"
   ]
  },
  {
   "cell_type": "markdown",
   "metadata": {
    "slideshow": {
     "slide_type": "subslide"
    }
   },
   "source": [
    "## Analyze results with aggregations\n",
    "Elasticsearch aggregations enable you to get meta-information about your search results and answer questions like, \"How many account holders are in Texas?\" or \"What’s the average balance of accounts in Tennessee?\" You can search documents, filter hits, and use aggregations to analyze the results all in one request.\n",
    "\n",
    "For example, the following request uses a terms aggregation to group all of the accounts in the bank index by state, and returns the ten states with the most accounts in descending order:"
   ]
  },
  {
   "cell_type": "code",
   "execution_count": 17,
   "metadata": {},
   "outputs": [
    {
     "data": {
      "text/plain": [
       "{'took': 68,\n",
       " 'timed_out': False,\n",
       " '_shards': {'total': 1, 'successful': 1, 'skipped': 0, 'failed': 0},\n",
       " 'hits': {'total': {'value': 1000, 'relation': 'eq'},\n",
       "  'max_score': 1.0,\n",
       "  'hits': [{'_index': 'bank',\n",
       "    '_id': '1',\n",
       "    '_score': 1.0,\n",
       "    '_source': {'account_number': 1,\n",
       "     'balance': 39225,\n",
       "     'firstname': 'Amber',\n",
       "     'lastname': 'Duke',\n",
       "     'age': 32,\n",
       "     'gender': 'M',\n",
       "     'address': '880 Holmes Lane',\n",
       "     'employer': 'Pyrami',\n",
       "     'email': 'amberduke@pyrami.com',\n",
       "     'city': 'Brogan',\n",
       "     'state': 'IL'}},\n",
       "   {'_index': 'bank',\n",
       "    '_id': '6',\n",
       "    '_score': 1.0,\n",
       "    '_source': {'account_number': 6,\n",
       "     'balance': 5686,\n",
       "     'firstname': 'Hattie',\n",
       "     'lastname': 'Bond',\n",
       "     'age': 36,\n",
       "     'gender': 'M',\n",
       "     'address': '671 Bristol Street',\n",
       "     'employer': 'Netagy',\n",
       "     'email': 'hattiebond@netagy.com',\n",
       "     'city': 'Dante',\n",
       "     'state': 'TN'}},\n",
       "   {'_index': 'bank',\n",
       "    '_id': '13',\n",
       "    '_score': 1.0,\n",
       "    '_source': {'account_number': 13,\n",
       "     'balance': 32838,\n",
       "     'firstname': 'Nanette',\n",
       "     'lastname': 'Bates',\n",
       "     'age': 28,\n",
       "     'gender': 'F',\n",
       "     'address': '789 Madison Street',\n",
       "     'employer': 'Quility',\n",
       "     'email': 'nanettebates@quility.com',\n",
       "     'city': 'Nogal',\n",
       "     'state': 'VA'}},\n",
       "   {'_index': 'bank',\n",
       "    '_id': '18',\n",
       "    '_score': 1.0,\n",
       "    '_source': {'account_number': 18,\n",
       "     'balance': 4180,\n",
       "     'firstname': 'Dale',\n",
       "     'lastname': 'Adams',\n",
       "     'age': 33,\n",
       "     'gender': 'M',\n",
       "     'address': '467 Hutchinson Court',\n",
       "     'employer': 'Boink',\n",
       "     'email': 'daleadams@boink.com',\n",
       "     'city': 'Orick',\n",
       "     'state': 'MD'}},\n",
       "   {'_index': 'bank',\n",
       "    '_id': '20',\n",
       "    '_score': 1.0,\n",
       "    '_source': {'account_number': 20,\n",
       "     'balance': 16418,\n",
       "     'firstname': 'Elinor',\n",
       "     'lastname': 'Ratliff',\n",
       "     'age': 36,\n",
       "     'gender': 'M',\n",
       "     'address': '282 Kings Place',\n",
       "     'employer': 'Scentric',\n",
       "     'email': 'elinorratliff@scentric.com',\n",
       "     'city': 'Ribera',\n",
       "     'state': 'WA'}},\n",
       "   {'_index': 'bank',\n",
       "    '_id': '25',\n",
       "    '_score': 1.0,\n",
       "    '_source': {'account_number': 25,\n",
       "     'balance': 40540,\n",
       "     'firstname': 'Virginia',\n",
       "     'lastname': 'Ayala',\n",
       "     'age': 39,\n",
       "     'gender': 'F',\n",
       "     'address': '171 Putnam Avenue',\n",
       "     'employer': 'Filodyne',\n",
       "     'email': 'virginiaayala@filodyne.com',\n",
       "     'city': 'Nicholson',\n",
       "     'state': 'PA'}},\n",
       "   {'_index': 'bank',\n",
       "    '_id': '32',\n",
       "    '_score': 1.0,\n",
       "    '_source': {'account_number': 32,\n",
       "     'balance': 48086,\n",
       "     'firstname': 'Dillard',\n",
       "     'lastname': 'Mcpherson',\n",
       "     'age': 34,\n",
       "     'gender': 'F',\n",
       "     'address': '702 Quentin Street',\n",
       "     'employer': 'Quailcom',\n",
       "     'email': 'dillardmcpherson@quailcom.com',\n",
       "     'city': 'Veguita',\n",
       "     'state': 'IN'}},\n",
       "   {'_index': 'bank',\n",
       "    '_id': '37',\n",
       "    '_score': 1.0,\n",
       "    '_source': {'account_number': 37,\n",
       "     'balance': 18612,\n",
       "     'firstname': 'Mcgee',\n",
       "     'lastname': 'Mooney',\n",
       "     'age': 39,\n",
       "     'gender': 'M',\n",
       "     'address': '826 Fillmore Place',\n",
       "     'employer': 'Reversus',\n",
       "     'email': 'mcgeemooney@reversus.com',\n",
       "     'city': 'Tooleville',\n",
       "     'state': 'OK'}},\n",
       "   {'_index': 'bank',\n",
       "    '_id': '44',\n",
       "    '_score': 1.0,\n",
       "    '_source': {'account_number': 44,\n",
       "     'balance': 34487,\n",
       "     'firstname': 'Aurelia',\n",
       "     'lastname': 'Harding',\n",
       "     'age': 37,\n",
       "     'gender': 'M',\n",
       "     'address': '502 Baycliff Terrace',\n",
       "     'employer': 'Orbalix',\n",
       "     'email': 'aureliaharding@orbalix.com',\n",
       "     'city': 'Yardville',\n",
       "     'state': 'DE'}},\n",
       "   {'_index': 'bank',\n",
       "    '_id': '49',\n",
       "    '_score': 1.0,\n",
       "    '_source': {'account_number': 49,\n",
       "     'balance': 29104,\n",
       "     'firstname': 'Fulton',\n",
       "     'lastname': 'Holt',\n",
       "     'age': 23,\n",
       "     'gender': 'F',\n",
       "     'address': '451 Humboldt Street',\n",
       "     'employer': 'Anocha',\n",
       "     'email': 'fultonholt@anocha.com',\n",
       "     'city': 'Sunriver',\n",
       "     'state': 'RI'}}]},\n",
       " 'aggregations': {'group_by_state': {'doc_count_error_upper_bound': 0,\n",
       "   'sum_other_doc_count': 743,\n",
       "   'buckets': [{'key': 'TX', 'doc_count': 30},\n",
       "    {'key': 'MD', 'doc_count': 28},\n",
       "    {'key': 'ID', 'doc_count': 27},\n",
       "    {'key': 'AL', 'doc_count': 25},\n",
       "    {'key': 'ME', 'doc_count': 25},\n",
       "    {'key': 'TN', 'doc_count': 25},\n",
       "    {'key': 'WY', 'doc_count': 25},\n",
       "    {'key': 'DC', 'doc_count': 24},\n",
       "    {'key': 'MA', 'doc_count': 24},\n",
       "    {'key': 'ND', 'doc_count': 24}]}}}"
      ]
     },
     "execution_count": 17,
     "metadata": {},
     "output_type": "execute_result"
    }
   ],
   "source": [
    "data = \"\"\"{\n",
    "  \"aggs\": {\n",
    "    \"group_by_state\": {\n",
    "      \"terms\": {\n",
    "        \"field\": \"state.keyword\"\n",
    "      }\n",
    "    }\n",
    "  }\n",
    "}\"\"\"\n",
    "\n",
    "url=\"http://localhost:9200/bank/_search?pretty\"\n",
    "\n",
    "headers = {'Content-type': 'application/json', 'Accept': 'text/plain'}\n",
    "\n",
    "r = requests.post(url,data=data, headers=headers)\n",
    "r.json()"
   ]
  },
  {
   "cell_type": "markdown",
   "metadata": {
    "slideshow": {
     "slide_type": "subslide"
    }
   },
   "source": [
    "You can combine aggregations to build more complex summaries of your data. For example, the following request nests an avg aggregation within the previous group_by_state aggregation to calculate the average account balances for each state."
   ]
  },
  {
   "cell_type": "code",
   "execution_count": 18,
   "metadata": {
    "slideshow": {
     "slide_type": "subslide"
    }
   },
   "outputs": [
    {
     "data": {
      "text/plain": [
       "{'took': 38,\n",
       " 'timed_out': False,\n",
       " '_shards': {'total': 1, 'successful': 1, 'skipped': 0, 'failed': 0},\n",
       " 'hits': {'total': {'value': 1000, 'relation': 'eq'},\n",
       "  'max_score': None,\n",
       "  'hits': []},\n",
       " 'aggregations': {'group_by_state': {'doc_count_error_upper_bound': 0,\n",
       "   'sum_other_doc_count': 743,\n",
       "   'buckets': [{'key': 'TX',\n",
       "     'doc_count': 30,\n",
       "     'average_balance': {'value': 26073.3}},\n",
       "    {'key': 'MD',\n",
       "     'doc_count': 28,\n",
       "     'average_balance': {'value': 26161.535714285714}},\n",
       "    {'key': 'ID',\n",
       "     'doc_count': 27,\n",
       "     'average_balance': {'value': 24368.777777777777}},\n",
       "    {'key': 'AL', 'doc_count': 25, 'average_balance': {'value': 25739.56}},\n",
       "    {'key': 'ME', 'doc_count': 25, 'average_balance': {'value': 21663.0}},\n",
       "    {'key': 'TN', 'doc_count': 25, 'average_balance': {'value': 28365.4}},\n",
       "    {'key': 'WY', 'doc_count': 25, 'average_balance': {'value': 21731.52}},\n",
       "    {'key': 'DC',\n",
       "     'doc_count': 24,\n",
       "     'average_balance': {'value': 23180.583333333332}},\n",
       "    {'key': 'MA',\n",
       "     'doc_count': 24,\n",
       "     'average_balance': {'value': 29600.333333333332}},\n",
       "    {'key': 'ND',\n",
       "     'doc_count': 24,\n",
       "     'average_balance': {'value': 26577.333333333332}}]}}}"
      ]
     },
     "execution_count": 18,
     "metadata": {},
     "output_type": "execute_result"
    }
   ],
   "source": [
    "data = \"\"\"{\n",
    "  \"size\": 0,\n",
    "  \"aggs\": {\n",
    "    \"group_by_state\": {\n",
    "      \"terms\": {\n",
    "        \"field\": \"state.keyword\"\n",
    "      },\n",
    "      \"aggs\": {\n",
    "        \"average_balance\": {\n",
    "          \"avg\": {\n",
    "            \"field\": \"balance\"\n",
    "          }\n",
    "        }\n",
    "      }\n",
    "    }\n",
    "  }\n",
    "}\"\"\"\n",
    "\n",
    "url=\"http://localhost:9200/bank/_search?pretty\"\n",
    "\n",
    "headers = {'Content-type': 'application/json', 'Accept': 'text/plain'}\n",
    "\n",
    "r = requests.post(url,data=data, headers=headers)\n",
    "r.json()"
   ]
  },
  {
   "cell_type": "markdown",
   "metadata": {
    "slideshow": {
     "slide_type": "subslide"
    }
   },
   "source": [
    "Instead of sorting the results by count, you could sort using the result of the nested aggregation by specifying the order within the terms aggregation:"
   ]
  },
  {
   "cell_type": "code",
   "execution_count": 19,
   "metadata": {
    "scrolled": false,
    "slideshow": {
     "slide_type": "subslide"
    }
   },
   "outputs": [
    {
     "data": {
      "text/plain": [
       "{'took': 17,\n",
       " 'timed_out': False,\n",
       " '_shards': {'total': 1, 'successful': 1, 'skipped': 0, 'failed': 0},\n",
       " 'hits': {'total': {'value': 1000, 'relation': 'eq'},\n",
       "  'max_score': None,\n",
       "  'hits': []},\n",
       " 'aggregations': {'group_by_state': {'doc_count_error_upper_bound': -1,\n",
       "   'sum_other_doc_count': 827,\n",
       "   'buckets': [{'key': 'CO',\n",
       "     'doc_count': 14,\n",
       "     'average_balance': {'value': 32460.35714285714}},\n",
       "    {'key': 'NE', 'doc_count': 16, 'average_balance': {'value': 32041.5625}},\n",
       "    {'key': 'AZ',\n",
       "     'doc_count': 14,\n",
       "     'average_balance': {'value': 31634.785714285714}},\n",
       "    {'key': 'MT',\n",
       "     'doc_count': 17,\n",
       "     'average_balance': {'value': 31147.41176470588}},\n",
       "    {'key': 'VA', 'doc_count': 16, 'average_balance': {'value': 30600.0625}},\n",
       "    {'key': 'GA', 'doc_count': 19, 'average_balance': {'value': 30089.0}},\n",
       "    {'key': 'MA',\n",
       "     'doc_count': 24,\n",
       "     'average_balance': {'value': 29600.333333333332}},\n",
       "    {'key': 'IL',\n",
       "     'doc_count': 22,\n",
       "     'average_balance': {'value': 29489.727272727272}},\n",
       "    {'key': 'NM',\n",
       "     'doc_count': 14,\n",
       "     'average_balance': {'value': 28792.64285714286}},\n",
       "    {'key': 'LA',\n",
       "     'doc_count': 17,\n",
       "     'average_balance': {'value': 28791.823529411766}}]}}}"
      ]
     },
     "execution_count": 19,
     "metadata": {},
     "output_type": "execute_result"
    }
   ],
   "source": [
    "data = \"\"\"{\n",
    "  \"size\": 0,\n",
    "  \"aggs\": {\n",
    "    \"group_by_state\": {\n",
    "      \"terms\": {\n",
    "        \"field\": \"state.keyword\",\n",
    "        \"order\": {\n",
    "          \"average_balance\": \"desc\"\n",
    "        }\n",
    "      },\n",
    "      \"aggs\": {\n",
    "        \"average_balance\": {\n",
    "          \"avg\": {\n",
    "            \"field\": \"balance\"\n",
    "          }\n",
    "        }\n",
    "      }\n",
    "    }\n",
    "  }\n",
    "}\"\"\"\n",
    "\n",
    "url=\"http://localhost:9200/bank/_search?pretty\"\n",
    "\n",
    "headers = {'Content-type': 'application/json', 'Accept': 'text/plain'}\n",
    "\n",
    "r = requests.post(url,data=data, headers=headers)\n",
    "r.json()"
   ]
  },
  {
   "cell_type": "markdown",
   "metadata": {
    "slideshow": {
     "slide_type": "subslide"
    }
   },
   "source": [
    "## Client Library\n",
    "https://elasticsearch-py.readthedocs.io/en/v8.2.0/"
   ]
  },
  {
   "cell_type": "markdown",
   "metadata": {
    "slideshow": {
     "slide_type": "fragment"
    }
   },
   "source": [
    "### Install"
   ]
  },
  {
   "cell_type": "code",
   "execution_count": 20,
   "metadata": {
    "slideshow": {
     "slide_type": "fragment"
    }
   },
   "outputs": [
    {
     "name": "stdout",
     "output_type": "stream",
     "text": [
      "Defaulting to user installation because normal site-packages is not writeable\n",
      "Collecting elasticsearch\n",
      "  Downloading elasticsearch-8.13.2-py3-none-any.whl (478 kB)\n",
      "\u001b[2K     \u001b[90m━━━━━━━━━━━━━━━━━━━━━━━━━━━━━━━━━━━━━━━\u001b[0m \u001b[32m478.0/478.0 KB\u001b[0m \u001b[31m4.8 MB/s\u001b[0m eta \u001b[36m0:00:00\u001b[0ma \u001b[36m0:00:01\u001b[0m\n",
      "\u001b[?25hCollecting elastic-transport<9,>=8.13\n",
      "  Downloading elastic_transport-8.13.0-py3-none-any.whl (64 kB)\n",
      "\u001b[2K     \u001b[90m━━━━━━━━━━━━━━━━━━━━━━━━━━━━━━━━━━━━━━━━\u001b[0m \u001b[32m64.3/64.3 KB\u001b[0m \u001b[31m8.5 MB/s\u001b[0m eta \u001b[36m0:00:00\u001b[0m\n",
      "\u001b[?25hRequirement already satisfied: urllib3<3,>=1.26.2 in /usr/lib/python3/dist-packages (from elastic-transport<9,>=8.13->elasticsearch) (1.26.5)\n",
      "Requirement already satisfied: certifi in /usr/lib/python3/dist-packages (from elastic-transport<9,>=8.13->elasticsearch) (2020.6.20)\n",
      "Installing collected packages: elastic-transport, elasticsearch\n",
      "Successfully installed elastic-transport-8.13.0 elasticsearch-8.13.2\n"
     ]
    }
   ],
   "source": [
    "!pip install elasticsearch"
   ]
  },
  {
   "cell_type": "markdown",
   "metadata": {
    "slideshow": {
     "slide_type": "slide"
    }
   },
   "source": [
    "### Import"
   ]
  },
  {
   "cell_type": "code",
   "execution_count": 20,
   "metadata": {
    "slideshow": {
     "slide_type": "fragment"
    }
   },
   "outputs": [],
   "source": [
    "from elasticsearch import Elasticsearch"
   ]
  },
  {
   "cell_type": "code",
   "execution_count": 21,
   "metadata": {
    "slideshow": {
     "slide_type": "fragment"
    }
   },
   "outputs": [
    {
     "data": {
      "text/plain": [
       "<Elasticsearch(['http://localhost:9200'])>"
      ]
     },
     "execution_count": 21,
     "metadata": {},
     "output_type": "execute_result"
    }
   ],
   "source": [
    "# by default we connect to localhost:9200\n",
    "es = Elasticsearch(\"http://localhost:9200\")\n",
    "es"
   ]
  },
  {
   "cell_type": "code",
   "execution_count": 22,
   "metadata": {
    "slideshow": {
     "slide_type": "fragment"
    }
   },
   "outputs": [
    {
     "data": {
      "text/plain": [
       "ObjectApiResponse({'_index': 'bank', '_id': '1', '_version': 1, '_seq_no': 0, '_primary_term': 1, 'found': True, '_source': {'account_number': 1, 'balance': 39225, 'firstname': 'Amber', 'lastname': 'Duke', 'age': 32, 'gender': 'M', 'address': '880 Holmes Lane', 'employer': 'Pyrami', 'email': 'amberduke@pyrami.com', 'city': 'Brogan', 'state': 'IL'}})"
      ]
     },
     "execution_count": 22,
     "metadata": {},
     "output_type": "execute_result"
    }
   ],
   "source": [
    "es.get(index=\"bank\", id=1)"
   ]
  },
  {
   "cell_type": "code",
   "execution_count": 23,
   "metadata": {
    "slideshow": {
     "slide_type": "fragment"
    }
   },
   "outputs": [
    {
     "data": {
      "text/plain": [
       "ObjectApiResponse({'took': 6, 'timed_out': False, '_shards': {'total': 1, 'successful': 1, 'skipped': 0, 'failed': 0}, 'hits': {'total': {'value': 1, 'relation': 'eq'}, 'max_score': 6.5032897, 'hits': [{'_index': 'bank', '_id': '44', '_score': 6.5032897, '_source': {'account_number': 44, 'balance': 34487, 'firstname': 'Aurelia', 'lastname': 'Harding', 'age': 37, 'gender': 'M', 'address': '502 Baycliff Terrace', 'employer': 'Orbalix', 'email': 'aureliaharding@orbalix.com', 'city': 'Yardville', 'state': 'DE'}}]}})"
      ]
     },
     "execution_count": 23,
     "metadata": {},
     "output_type": "execute_result"
    }
   ],
   "source": [
    "# New in ES 8\n",
    "es.search(index=\"bank\", query={\"match\": {'firstname':'Aurelia'}})"
   ]
  },
  {
   "cell_type": "markdown",
   "metadata": {
    "slideshow": {
     "slide_type": "subslide"
    }
   },
   "source": [
    "## Some more data\n",
    "https://ikeptwalking.com/elasticsearch-sample-data/\n"
   ]
  },
  {
   "cell_type": "code",
   "execution_count": null,
   "metadata": {},
   "outputs": [],
   "source": [
    "%%bash\n",
    "\n",
    "curl -H \"Content-Type: application/json\" -XPOST \"localhost:9200/companydatabase/_bulk?pretty&refresh\" --data-binary \"@/Users/nics/Downloads/Employees100K.json\""
   ]
  },
  {
   "cell_type": "markdown",
   "metadata": {},
   "source": [
    "Do a little trick...\n",
    "Replace string ,\"_type\":\"employees\" -> \"\""
   ]
  },
  {
   "cell_type": "code",
   "execution_count": 24,
   "metadata": {},
   "outputs": [
    {
     "data": {
      "text/plain": [
       "ObjectApiResponse({'took': 14, 'timed_out': False, '_shards': {'total': 1, 'successful': 1, 'skipped': 0, 'failed': 0}, 'hits': {'total': {'value': 3835, 'relation': 'eq'}, 'max_score': 5.056841, 'hits': [{'_index': 'companydatabase', '_id': 'TWeev48BizKIjV8lRjxa', '_score': 5.056841, '_source': {'FirstName': 'WYATT', 'LastName': 'FETHEROLF', 'Designation': 'Senior Software Engineer', 'Salary': '69000', 'DateOfJoining': '2016-01-07', 'Address': '437 Edgewood Lane Garden City, NY 11530', 'Gender': 'Male', 'Age': 34, 'MaritalStatus': 'Unmarried', 'Interests': 'Writing Music,Writing Songs'}}, {'_index': 'companydatabase', '_id': '5Giev48BizKIjV8lRjTt', '_score': 5.056841, '_source': {'FirstName': 'MECHELLE', 'LastName': 'FRAUTSCHI', 'Designation': 'Trainee', 'Salary': '35000', 'DateOfJoining': '2016-10-24', 'Address': '814 Beaver Ridge St. Central Islip, NY 11722', 'Gender': 'Female', 'Age': 24, 'MaritalStatus': 'Unmarried', 'Interests': 'Taxidermy,Writing,Writing Songs'}}, {'_index': 'companydatabase', '_id': 'Nmaev48BizKIjV8lRcyq', '_score': 5.0015945, '_source': {'FirstName': 'JAQUELINE', 'LastName': 'PLACK', 'Designation': 'Manager', 'Salary': '86000', 'DateOfJoining': '2002-02-20', 'Address': '885 North Ave. Zionsville, IN 46077', 'Gender': 'Female', 'Age': 45, 'MaritalStatus': 'Married', 'Interests': 'Writing'}}, {'_index': 'companydatabase', '_id': 'E2aev48BizKIjV8lRdK2', '_score': 5.0015945, '_source': {'FirstName': 'OLEN', 'LastName': 'LUNDIN', 'Designation': 'Human Resource Manager', 'Salary': '79000', 'DateOfJoining': '2002-02-25', 'Address': '18 Rockwell St. Goshen, IN 46526', 'Gender': 'Male', 'Age': 37, 'MaritalStatus': 'Married', 'Interests': 'Writing'}}, {'_index': 'companydatabase', '_id': 'imaev48BizKIjV8lRdK3', '_score': 5.0015945, '_source': {'FirstName': 'BRANDON', 'LastName': 'THOMEN', 'Designation': 'Human Resource Manager', 'Salary': '79000', 'DateOfJoining': '2002-02-06', 'Address': '37 La Sierra Street Bridgewater, NJ 08807', 'Gender': 'Male', 'Age': 33, 'MaritalStatus': 'Unmarried', 'Interests': 'Writing'}}, {'_index': 'companydatabase', '_id': 'vWaev48BizKIjV8lRdfA', '_score': 5.0015945, '_source': {'FirstName': 'EVELIN', 'LastName': 'WOOLCOTT', 'Designation': 'Human Resource Manager', 'Salary': '72000', 'DateOfJoining': '2000-10-24', 'Address': '8899 Penn Rd. Lilburn, GA 30047', 'Gender': 'Female', 'Age': 43, 'MaritalStatus': 'Unmarried', 'Interests': 'Writing'}}, {'_index': 'companydatabase', '_id': 'pGaev48BizKIjV8lRdjB', '_score': 5.0015945, '_source': {'FirstName': 'KENNY', 'LastName': 'EVANOFF', 'Designation': 'Architect', 'Salary': '92000', 'DateOfJoining': '2016-08-08', 'Address': '77 Highland St. Maspeth, NY 11378', 'Gender': 'Male', 'Age': 35, 'MaritalStatus': 'Married', 'Interests': 'Writing'}}, {'_index': 'companydatabase', '_id': 'B2eev48BizKIjV8lRgAR', '_score': 5.0015945, '_source': {'FirstName': 'JERE', 'LastName': 'LINDMEYER', 'Designation': 'Team Lead', 'Salary': '77000', 'DateOfJoining': '2015-02-19', 'Address': '404 Cemetery St. Hempstead, NY 11550', 'Gender': 'Male', 'Age': 33, 'MaritalStatus': 'Married', 'Interests': 'Writing'}}, {'_index': 'companydatabase', '_id': 'MGeev48BizKIjV8lRhgw', '_score': 5.0015945, '_source': {'FirstName': 'NEOMA', 'LastName': 'RAMBOUSEK', 'Designation': 'Senior Software Engineer', 'Salary': '65000', 'DateOfJoining': '2014-09-22', 'Address': '539 Madison Ave. Ringgold, GA 30736', 'Gender': 'Female', 'Age': 30, 'MaritalStatus': 'Unmarried', 'Interests': 'Writing'}}, {'_index': 'companydatabase', '_id': 'QWeev48BizKIjV8lRhs0', '_score': 5.0015945, '_source': {'FirstName': 'ROSANA', 'LastName': 'COSDEN', 'Designation': 'Senior Software Engineer', 'Salary': '67000', 'DateOfJoining': '2014-01-20', 'Address': '89 New Saddle Ave. Mebane, NC 27302', 'Gender': 'Female', 'Age': 32, 'MaritalStatus': 'Unmarried', 'Interests': 'Writing'}}]}})"
      ]
     },
     "execution_count": 24,
     "metadata": {},
     "output_type": "execute_result"
    }
   ],
   "source": [
    "# http://localhost:9200/companydatabase/_count?pretty=true\n",
    "#Interests':'Writing','writing.Songs\n",
    "es.search(index=\"companydatabase\", query={\"match\": {'Interests':'writing'}})"
   ]
  },
  {
   "cell_type": "markdown",
   "metadata": {
    "slideshow": {
     "slide_type": "slide"
    }
   },
   "source": [
    "![](https://i.imgflip.com/41pml7.jpg)\n",
    "[NicsMeme](https://imgflip.com/i/41pml7)"
   ]
  },
  {
   "cell_type": "markdown",
   "metadata": {
    "slideshow": {
     "slide_type": "slide"
    }
   },
   "source": [
    "### The journey to Elasticsearch\n",
    "\n",
    "[▶![](http://img.youtube.com/vi/-HcwWNU2YRM/0.jpg)](https://www.youtube.com/watch?v=-HcwWNU2YRM)\n"
   ]
  },
  {
   "cell_type": "markdown",
   "metadata": {
    "slideshow": {
     "slide_type": "subslide"
    }
   },
   "source": [
    "# Biblio"
   ]
  },
  {
   "cell_type": "markdown",
   "metadata": {
    "slideshow": {
     "slide_type": "subslide"
    }
   },
   "source": [
    "* https://www.elastic.co/guide/en/elasticsearch/reference/current/docs.html\n",
    "* https://plotly.com/python/getting-started/"
   ]
  }
 ],
 "metadata": {
  "celltoolbar": "Slideshow",
  "kernelspec": {
   "display_name": "Python 3 (ipykernel)",
   "language": "python",
   "name": "python3"
  },
  "language_info": {
   "codemirror_mode": {
    "name": "ipython",
    "version": 3
   },
   "file_extension": ".py",
   "mimetype": "text/x-python",
   "name": "python",
   "nbconvert_exporter": "python",
   "pygments_lexer": "ipython3",
   "version": "3.10.12"
  },
  "rise": {
   "autolaunch": true,
   "enable_chalkboard": "true",
   "footer": "<div class=\"tap-footer\"> *** Technologies for advanced programming (TAP) - 2024 ***</div>",
   "header": "<div class=\"tap-header\"></div>",
   "scroll": true,
   "theme": "white"
  }
 },
 "nbformat": 4,
 "nbformat_minor": 4
}
