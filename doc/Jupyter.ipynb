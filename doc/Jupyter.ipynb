{
 "cells": [
  {
   "cell_type": "markdown",
   "id": "aaaf702e",
   "metadata": {
    "slideshow": {
     "slide_type": "slide"
    }
   },
   "source": [
    "# Jupyter"
   ]
  },
  {
   "cell_type": "markdown",
   "id": "9859ca53",
   "metadata": {
    "slideshow": {
     "slide_type": "slide"
    }
   },
   "source": [
    "# What is Jupyter ?"
   ]
  },
  {
   "cell_type": "markdown",
   "id": "1e4ffa80",
   "metadata": {
    "cell_style": "split",
    "slideshow": {
     "slide_type": "fragment"
    }
   },
   "source": [
    "> Free software, open standards, and web services for interactive computing across all programming languages\n",
    "\n",
    "https://jupyter.org/"
   ]
  },
  {
   "cell_type": "markdown",
   "id": "b3db32fd",
   "metadata": {
    "cell_style": "split",
    "slideshow": {
     "slide_type": "fragment"
    }
   },
   "source": [
    "![](images/jupyter.png)\n",
    "Jupyter Logo Background "
   ]
  },
  {
   "cell_type": "markdown",
   "id": "34544f1d",
   "metadata": {
    "slideshow": {
     "slide_type": "subslide"
    }
   },
   "source": [
    "## History"
   ]
  },
  {
   "cell_type": "markdown",
   "id": "295b4599",
   "metadata": {
    "cell_style": "split",
    "slideshow": {
     "slide_type": "fragment"
    }
   },
   "source": [
    "Project Jupyter is a non-profit, open-source project, born out of the IPython Project in 2014 as it evolved to support interactive data science and scientific computing across all programming languages. Jupyter will always be 100% open-source software, free for all to use"
   ]
  },
  {
   "cell_type": "markdown",
   "id": "4fc06b86",
   "metadata": {
    "cell_style": "split",
    "slideshow": {
     "slide_type": "fragment"
    }
   },
   "source": [
    "The **name** is refers to first three programming language supported (Julia, Python, R)\n",
    "\n",
    "The **logo** is the Jupiter planet with its main moons representing the 3 language\n",
    "\n",
    "It's a tribute to Galileo"
   ]
  },
  {
   "cell_type": "markdown",
   "id": "ce02f72e",
   "metadata": {
    "slideshow": {
     "slide_type": "subslide"
    }
   },
   "source": [
    "![](images/GalileoJupyterNotebook.png)"
   ]
  },
  {
   "cell_type": "markdown",
   "id": "d7e04889",
   "metadata": {
    "slideshow": {
     "slide_type": "subslide"
    }
   },
   "source": [
    "## Impacts"
   ]
  },
  {
   "cell_type": "markdown",
   "id": "bd757cd6",
   "metadata": {
    "cell_style": "split",
    "slideshow": {
     "slide_type": "fragment"
    },
    "tags": []
   },
   "source": [
    "In 2021, Nature added iPy as one \n",
    "the \"Ten computer code that transfored science\"\n",
    "https://www.nature.com/articles/d41586-021-00075-2\n",
    "\n",
    "![](images/nature.png)"
   ]
  },
  {
   "cell_type": "markdown",
   "id": "8f77fe54",
   "metadata": {
    "cell_style": "split",
    "slideshow": {
     "slide_type": "fragment"
    }
   },
   "source": [
    "![](images/nature2.png)"
   ]
  },
  {
   "cell_type": "markdown",
   "id": "fa72aaff",
   "metadata": {
    "slideshow": {
     "slide_type": "slide"
    }
   },
   "source": [
    "# Juypter Notebooks\n",
    "https://jupyter-notebook.readthedocs.io/"
   ]
  },
  {
   "cell_type": "markdown",
   "id": "2cbe47b1",
   "metadata": {
    "cell_style": "center",
    "slideshow": {
     "slide_type": "subslide"
    }
   },
   "source": [
    "## Components of Jupyter Notebooks"
   ]
  },
  {
   "cell_type": "markdown",
   "id": "8e2eeb4f",
   "metadata": {
    "cell_style": "center",
    "slideshow": {
     "slide_type": "fragment"
    }
   },
   "source": [
    "- **Notebook web application**: An interactive web application for writing and running code interactively and authoring notebook documents."
   ]
  },
  {
   "cell_type": "markdown",
   "id": "4b28c1a1",
   "metadata": {
    "slideshow": {
     "slide_type": "fragment"
    }
   },
   "source": [
    "- **Kernels**: Separate processes started by the notebook web application that runs users’ code in a given language and returns output back to the notebook web application."
   ]
  },
  {
   "cell_type": "markdown",
   "id": "2d097c6e",
   "metadata": {
    "slideshow": {
     "slide_type": "fragment"
    }
   },
   "source": [
    "- **Notebook documents**: Self-contained documents that contain a representation of all content visible in the notebook web application, including inputs and outputs of the computations, narrative text, equations, images, and rich media representations of objects."
   ]
  },
  {
   "cell_type": "markdown",
   "id": "c72e82b9",
   "metadata": {
    "slideshow": {
     "slide_type": "subslide"
    }
   },
   "source": [
    "#### Component diagram\n",
    "![](images/notebook_components.png)"
   ]
  },
  {
   "cell_type": "markdown",
   "id": "58382c43",
   "metadata": {
    "slideshow": {
     "slide_type": "subslide"
    }
   },
   "source": [
    "### The notebook web application"
   ]
  },
  {
   "cell_type": "markdown",
   "id": "289b24bf",
   "metadata": {
    "slideshow": {
     "slide_type": "subslide"
    }
   },
   "source": [
    "#### Dashboard\n",
    "The Dashboard it's the initial page and lists the files availabile in the directory and the running notebook.\n",
    "\n",
    "Please note that the scope depends on the path where the application is lanched."
   ]
  },
  {
   "cell_type": "markdown",
   "id": "1bb4215c",
   "metadata": {
    "slideshow": {
     "slide_type": "subslide"
    }
   },
   "source": [
    "![](https://user-images.githubusercontent.com/591645/229564680-3e9a9031-e925-4008-833c-a478b3e96c97.png)\n",
    "Image of the Notebook Dashboard from the Jupyter manual"
   ]
  },
  {
   "cell_type": "markdown",
   "id": "9e2124cc",
   "metadata": {
    "slideshow": {
     "slide_type": "subslide"
    }
   },
   "source": [
    "#### Notebook Editor\n",
    "The editor of a notebook it's \"word\" style with a menu on top "
   ]
  },
  {
   "cell_type": "markdown",
   "id": "910487f5",
   "metadata": {
    "cell_style": "center",
    "slideshow": {
     "slide_type": "fragment"
    }
   },
   "source": [
    "![Image](images/new-notebook.gif)"
   ]
  },
  {
   "cell_type": "markdown",
   "id": "c89cb750",
   "metadata": {
    "cell_style": "center",
    "slideshow": {
     "slide_type": "subslide"
    }
   },
   "source": [
    "#### Main features"
   ]
  },
  {
   "cell_type": "markdown",
   "id": "f5df2a4c",
   "metadata": {
    "cell_style": "split",
    "slideshow": {
     "slide_type": "fragment"
    }
   },
   "source": [
    "- Edit code in the browser, with automatic syntax highlighting, indentation, and tab completion/introspection."
   ]
  },
  {
   "cell_type": "markdown",
   "id": "2dd847bc",
   "metadata": {
    "cell_style": "split",
    "slideshow": {
     "slide_type": "fragment"
    }
   },
   "source": [
    "- Run code from the browser, with the results of computations attached to the code which generated them."
   ]
  },
  {
   "cell_type": "markdown",
   "id": "cb50f43b",
   "metadata": {
    "cell_style": "split",
    "slideshow": {
     "slide_type": "fragment"
    }
   },
   "source": [
    "- See the results of computations with rich media representations, such as HTML, LaTeX, PNG, SVG, PDF, etc."
   ]
  },
  {
   "cell_type": "markdown",
   "id": "7434e9b2",
   "metadata": {
    "cell_style": "split",
    "slideshow": {
     "slide_type": "fragment"
    }
   },
   "source": [
    "- Create and use interactive JavaScript widgets, which bind interactive user interface controls and visualizations to reactive kernel side computations."
   ]
  },
  {
   "cell_type": "markdown",
   "id": "8f622c00",
   "metadata": {
    "cell_style": "split",
    "slideshow": {
     "slide_type": "fragment"
    }
   },
   "source": [
    "- Author narrative text using the Markdown markup language."
   ]
  },
  {
   "cell_type": "markdown",
   "id": "bd5d9ee6",
   "metadata": {
    "cell_style": "split",
    "slideshow": {
     "slide_type": "fragment"
    }
   },
   "source": [
    "- Include mathematical equations using LaTeX syntax in Markdown, which are rendered in-browser by MathJax."
   ]
  },
  {
   "cell_type": "markdown",
   "id": "5580e956",
   "metadata": {
    "slideshow": {
     "slide_type": "subslide"
    }
   },
   "source": [
    "### Kernels"
   ]
  },
  {
   "cell_type": "markdown",
   "id": "685610b2",
   "metadata": {
    "cell_style": "split",
    "slideshow": {
     "slide_type": "fragment"
    }
   },
   "source": [
    "- Through Jupyter’s kernel and messaging architecture, the Notebook allows code to be run in a range of different programming languages. \n",
    "- For each notebook document that a user opens, the web application starts a kernel that runs the code for that notebook. \n",
    "- Each kernel is capable of running code in a single programming language and there are kernels available in the many languages\n",
    "https://github.com/jupyter/jupyter/wiki/Jupyter-kernels "
   ]
  },
  {
   "cell_type": "markdown",
   "id": "9158df8b",
   "metadata": {
    "cell_style": "split",
    "slideshow": {
     "slide_type": "fragment"
    }
   },
   "source": [
    "![](images/ipy_kernel_and_terminal.png)"
   ]
  },
  {
   "cell_type": "markdown",
   "id": "39fdaaaf",
   "metadata": {
    "slideshow": {
     "slide_type": "slide"
    }
   },
   "source": [
    "# Notebook documents"
   ]
  },
  {
   "cell_type": "markdown",
   "id": "9808985f",
   "metadata": {
    "cell_style": "split",
    "slideshow": {
     "slide_type": "subslide"
    }
   },
   "source": [
    "Notebook documents contain the inputs and outputs of an interactive session as well as narrative text that accompanies the code but is not meant for execution. Rich output generated by running code, including HTML, images, video, and plots, is embeddeed in the notebook, which makes it a complete and self-contained record of a computation.\n"
   ]
  },
  {
   "cell_type": "markdown",
   "id": "f6a704ff",
   "metadata": {
    "cell_style": "split",
    "slideshow": {
     "slide_type": "fragment"
    }
   },
   "source": [
    "![](images/jupyter_cell.png)\n",
    "\n",
    "When you run the notebook web application on your computer, notebook documents are just files on your local filesystem with a ``.ipynb`` extension. This allows you to use familiar workflows for organizing your notebooks into folders and sharing them with others."
   ]
  },
  {
   "cell_type": "markdown",
   "id": "a238dfe2",
   "metadata": {
    "slideshow": {
     "slide_type": "subslide"
    }
   },
   "source": [
    "## Structure of a notebook document"
   ]
  },
  {
   "cell_type": "markdown",
   "id": "30da28a4",
   "metadata": {
    "cell_style": "split",
    "slideshow": {
     "slide_type": "subslide"
    }
   },
   "source": [
    "Internally, notebook documents are \n",
    "- **JSON** <https://en.wikipedia.org/wiki/JSON> data \n",
    "- with binary values **base64**  <https://en.wikipedia.org/wiki/Base64> encoded. \n",
    "\n",
    "- This allows them to be read and manipulated programmatically by any programming language. \n",
    "\n",
    "- Because JSON is a text format, notebook documents are version control friendly."
   ]
  },
  {
   "cell_type": "markdown",
   "id": "2da3da27",
   "metadata": {
    "cell_style": "split",
    "slideshow": {
     "slide_type": "fragment"
    }
   },
   "source": [
    "![](images/jupyter_json.png)"
   ]
  },
  {
   "cell_type": "markdown",
   "id": "92354ce9",
   "metadata": {
    "slideshow": {
     "slide_type": "slide"
    }
   },
   "source": [
    "## Cells"
   ]
  },
  {
   "cell_type": "markdown",
   "id": "6b3b5382",
   "metadata": {
    "slideshow": {
     "slide_type": "subslide"
    }
   },
   "source": [
    "Notebooks consist of a linear sequence of cells. There are three basic cell types:\n",
    "- **Code cells**: Input and output of live code that is run in the kernel\n",
    "- **Markdown cells**: Narrative text with embedded LaTeX equations\n",
    "- **Raw cells**: Unformatted text that is included, without modification, when notebooks are converted to different formats using nbconvert"
   ]
  },
  {
   "cell_type": "markdown",
   "id": "ff43a399",
   "metadata": {
    "slideshow": {
     "slide_type": "subslide"
    }
   },
   "source": [
    "### Markdown Cell\n",
    "\n",
    "> Markdown is a plain text format for writing structured documents, based on conventions for indicating formatting in email and usenet posts. It was developed by John Gruber (with help from Aaron Swartz) and released in 2004\n",
    "\n",
    "As Gruber writes:\n",
    "> The overriding design goal for Markdown’s formatting syntax is to make it as readable as possible. The idea is that a Markdown-formatted document should be publishable as-is, as plain text, without looking like it’s been marked up with tags or formatting instructions. (http://daringfireball.net/projects/markdown/)"
   ]
  },
  {
   "cell_type": "markdown",
   "id": "2d303020",
   "metadata": {
    "slideshow": {
     "slide_type": "subslide"
    }
   },
   "source": [
    "### Markdown References\n",
    "- https://github.com/adam-p/markdown-here/wiki/Markdown-Cheatsheet\n",
    "- https://www.markdownguide.org/"
   ]
  },
  {
   "cell_type": "markdown",
   "id": "20a8630c",
   "metadata": {
    "slideshow": {
     "slide_type": "subslide"
    }
   },
   "source": [
    "### Code Cell"
   ]
  },
  {
   "cell_type": "markdown",
   "id": "29039ce8",
   "metadata": {
    "slideshow": {
     "slide_type": "fragment"
    }
   },
   "source": [
    "- Cell where it's possibile to insert code associated to kernel of the notebook (i.e. Python)\n",
    "- Code cell interact with the kernel using a protocol, i.e. the code is executed and output (if any) is printed after the cell\n",
    "- Cell code are executed in order, i.e. no other cell code is effectively executed until the previosly completed"
   ]
  },
  {
   "cell_type": "markdown",
   "id": "89550f2d",
   "metadata": {
    "slideshow": {
     "slide_type": "slide"
    }
   },
   "source": [
    "#### REPL\n",
    "\n",
    "![](images/repl.png)"
   ]
  },
  {
   "cell_type": "markdown",
   "id": "e11e04ba",
   "metadata": {
    "cell_style": "split",
    "slideshow": {
     "slide_type": "subslide"
    }
   },
   "source": [
    "- The **read** function accepts an expression from the user, and parses it into a data structure in memory. For instance, the user may enter the s-expression (+ 1 2 3), which is parsed into a linked list containing four data elements.\n",
    "- The **eval** function takes this internal data structure and evaluates it. In Lisp, evaluating an s-expression beginning with the name of a function means calling that function on the arguments that make up the rest of the expression. So the function + is called on the arguments 1 2 3, yielding the result 6."
   ]
  },
  {
   "cell_type": "markdown",
   "id": "89847900",
   "metadata": {
    "cell_style": "split",
    "slideshow": {
     "slide_type": "fragment"
    }
   },
   "source": [
    "- The **print** function takes the result yielded by eval, and prints it out to the user. If it is a complex expression, it may be pretty-printed to make it easier to understand.\n",
    "- The development environment then returns to the read state, creating a **loop**, which terminates when the program is closed.\n",
    "\n",
    "```lisp\n",
    "(define (REPL env)\n",
    "  (print (eval env (read)))\n",
    "  (REPL env) )\n",
    " ```"
   ]
  },
  {
   "cell_type": "markdown",
   "id": "b4bd36ce",
   "metadata": {
    "slideshow": {
     "slide_type": "subslide"
    }
   },
   "source": [
    "### Edit / Command Mode"
   ]
  },
  {
   "cell_type": "markdown",
   "id": "e5873d65",
   "metadata": {
    "slideshow": {
     "slide_type": "fragment"
    }
   },
   "source": [
    "Notebooks have two modes:"
   ]
  },
  {
   "cell_type": "markdown",
   "id": "894146c1",
   "metadata": {
    "cell_style": "split",
    "slideshow": {
     "slide_type": "fragment"
    }
   },
   "source": [
    "**Edit Mode (green)**\n",
    "- it's possibile to write in the cell\n",
    "- code is not immediatetely executed\n",
    "\n",
    "Some ide features (but it's not an IDE)\n",
    "- syntax highlighting\n",
    "- code completion\n"
   ]
  },
  {
   "cell_type": "markdown",
   "id": "1e44713d",
   "metadata": {
    "cell_style": "split",
    "slideshow": {
     "slide_type": "fragment"
    }
   },
   "source": [
    "**Command Mode**: (blue): it's a \"navigation mode\", special keys to author the notebook\n",
    "\n",
    "- Basic navigation: enter, shift-enter, up/k, down/j\n",
    "- Saving the notebook: s\n",
    "- Change Cell types: y, m, 1-6, t\n",
    "- Cell creation: a, b\n",
    "- Cell editing: x, c, v, d, z\n",
    "- Kernel operations: i, 0 (press twice)"
   ]
  },
  {
   "cell_type": "markdown",
   "id": "3d64d94d",
   "metadata": {
    "slideshow": {
     "slide_type": "subslide"
    }
   },
   "source": [
    "![](https://i.imgflip.com/8enqtc.jpg)\n",
    "[NicsMeme](https://i.imgflip.com/8enqtc.jpg)"
   ]
  },
  {
   "cell_type": "markdown",
   "id": "e70bc4b6",
   "metadata": {
    "slideshow": {
     "slide_type": "subslide"
    }
   },
   "source": [
    "# Cell execution"
   ]
  },
  {
   "cell_type": "markdown",
   "id": "5cf6eabf",
   "metadata": {
    "slideshow": {
     "slide_type": "fragment"
    }
   },
   "source": [
    "- Cells can be executed clicking on the \"Play\" icon in the toolbar, via Cell -> Run in the menu or Shift-Enter"
   ]
  },
  {
   "cell_type": "markdown",
   "id": "5eec343b",
   "metadata": {
    "slideshow": {
     "slide_type": "fragment"
    }
   },
   "source": [
    "- Cells are executed in order, output appears asynchronously"
   ]
  },
  {
   "cell_type": "markdown",
   "id": "2a95b156",
   "metadata": {
    "slideshow": {
     "slide_type": "fragment"
    }
   },
   "source": [
    "- Markdown cells are immediately rendered "
   ]
  },
  {
   "cell_type": "markdown",
   "id": "f247b660",
   "metadata": {
    "slideshow": {
     "slide_type": "fragment"
    }
   },
   "source": [
    "- Code cells sends the entire cell to the kerne, a [] box appers at the left with a * (waiting) and when completed  the execution order"
   ]
  },
  {
   "cell_type": "markdown",
   "id": "1eb7e367",
   "metadata": {
    "slideshow": {
     "slide_type": "subslide"
    }
   },
   "source": [
    "### Demo "
   ]
  },
  {
   "cell_type": "markdown",
   "id": "c4f053af",
   "metadata": {},
   "source": [
    "Sto facendo una stampa del numero di studenti"
   ]
  },
  {
   "cell_type": "code",
   "execution_count": 2,
   "id": "0bb29492",
   "metadata": {
    "scrolled": true
   },
   "outputs": [
    {
     "name": "stdout",
     "output_type": "stream",
     "text": [
      "Hello World Students:11\n"
     ]
    }
   ],
   "source": [
    "a=11;\n",
    "print(\"Hello World Students:\"+str(a));"
   ]
  },
  {
   "cell_type": "markdown",
   "id": "92080eec",
   "metadata": {
    "slideshow": {
     "slide_type": "slide"
    }
   },
   "source": [
    "# How to publish/share notebook ?"
   ]
  },
  {
   "cell_type": "markdown",
   "id": "bec4d238",
   "metadata": {
    "slideshow": {
     "slide_type": "subslide"
    }
   },
   "source": [
    "### Nbviewer\n",
    "https://nbviewer.org/"
   ]
  },
  {
   "cell_type": "markdown",
   "id": "4c105bd3",
   "metadata": {
    "cell_style": "split",
    "slideshow": {
     "slide_type": "fragment"
    }
   },
   "source": [
    "![](https://nbviewer.org/static/img/nav_logo.svg)"
   ]
  },
  {
   "cell_type": "markdown",
   "id": "df6ec4cf",
   "metadata": {
    "cell_style": "split",
    "slideshow": {
     "slide_type": "fragment"
    }
   },
   "source": [
    "Any notebook document available from a public URL or on GitHub can be shared via nbviewer. This service loads the notebook document from the URL and renders it as a static web page. The resulting web page may thus be shared with others without their needing to install the Jupyter Notebook.\n",
    "\n",
    "Examples \n",
    "- [See this notebook using nbviewer](https://nbviewer.org/github/nicshub/sdsdbms/blob/main/Jupyter.ipynb)\n",
    "\n",
    "- Github automatically renders notebook\n",
    "[See this notebook in GitHub](https://github.com/nicshub/sdsdbms/blob/main/Jupyter.ipynb)"
   ]
  },
  {
   "cell_type": "markdown",
   "id": "b1b81a21",
   "metadata": {
    "slideshow": {
     "slide_type": "slide"
    }
   },
   "source": [
    "# Export Notebook (NB Convert)\n",
    "\n",
    "Using nbconvert enables:\n",
    "presentation of information in familiar formats, such as PDF.\n",
    "publishing of research using LaTeX and opens the door for embedding notebooks in papers.\n",
    "collaboration with others who may not use the notebook in their work.\n",
    "sharing contents with many people via the web using HTML.\n",
    "Format:\n",
    "- latex \n",
    "- pdf\n",
    "- html\n",
    "- slides\n",
    "\n",
    "https://nbconvert.readthedocs.io"
   ]
  },
  {
   "cell_type": "markdown",
   "id": "a74ccbd7",
   "metadata": {
    "slideshow": {
     "slide_type": "slide"
    }
   },
   "source": [
    "### Slides"
   ]
  },
  {
   "cell_type": "markdown",
   "id": "2aa575cd",
   "metadata": {
    "slideshow": {
     "slide_type": "subslide"
    }
   },
   "source": [
    "- There are different ways to create presentation of a notebook"
   ]
  },
  {
   "cell_type": "markdown",
   "id": "7e52560d",
   "metadata": {
    "slideshow": {
     "slide_type": "fragment"
    }
   },
   "source": [
    "- Each cell is \"labeled\" as Slide, Subslide or Fragment"
   ]
  },
  {
   "cell_type": "markdown",
   "id": "dc841761",
   "metadata": {
    "slideshow": {
     "slide_type": "fragment"
    }
   },
   "source": [
    "- Typically they are based on [reveal](https://revealjs.com/)"
   ]
  },
  {
   "cell_type": "markdown",
   "id": "53d3da4e",
   "metadata": {
    "slideshow": {
     "slide_type": "fragment"
    }
   },
   "source": [
    "- [Rise](https://rise.readthedocs.io/en/latest/): it's an extension able to transform notebook in presentation inside the web application. The great advantage is that it's possibile to execute cell \"live\""
   ]
  },
  {
   "cell_type": "markdown",
   "id": "725da6cc",
   "metadata": {
    "slideshow": {
     "slide_type": "fragment"
    }
   },
   "source": [
    "- [Voila](https://voila.readthedocs.io/en/stable/): Voilà allows you to convert a Jupyter Notebook into an interactive dashboard that allows you to share your work with others."
   ]
  },
  {
   "cell_type": "markdown",
   "id": "7a1c0648",
   "metadata": {
    "slideshow": {
     "slide_type": "slide"
    }
   },
   "source": [
    "# Jupyter Book\n",
    "![](https://jupyterbook.org/en/stable/_static/logo-wide.svg)"
   ]
  },
  {
   "cell_type": "markdown",
   "id": "871247c1",
   "metadata": {
    "cell_style": "split",
    "slideshow": {
     "slide_type": "subslide"
    }
   },
   "source": [
    "## What is Jupyter Book\n",
    "https://jupyterbook.org/en/stable/intro.html"
   ]
  },
  {
   "cell_type": "markdown",
   "id": "55b52a0a",
   "metadata": {
    "cell_style": "split",
    "slideshow": {
     "slide_type": "fragment"
    }
   },
   "source": [
    "- Jupyter Book is an open source project for building beautiful, publication-quality books and documents from computational material."
   ]
  },
  {
   "cell_type": "markdown",
   "id": "c81445cc",
   "metadata": {
    "cell_style": "split",
    "slideshow": {
     "slide_type": "fragment"
    }
   },
   "source": [
    "- Define Table of Content and Meta Data"
   ]
  },
  {
   "cell_type": "markdown",
   "id": "26ad9bc1",
   "metadata": {
    "cell_style": "split",
    "slideshow": {
     "slide_type": "fragment"
    }
   },
   "source": [
    "- Uses MyST Markdown: MyST makes Markdown more _extensible_ & **powerful** to support an ecosystem of tools for computational narratives, technical documentation, and open scientific communication."
   ]
  },
  {
   "cell_type": "markdown",
   "id": "8431de1a",
   "metadata": {
    "slideshow": {
     "slide_type": "slide"
    }
   },
   "source": [
    "# Other Jupyter Projects"
   ]
  },
  {
   "cell_type": "markdown",
   "id": "13fa056a",
   "metadata": {
    "slideshow": {
     "slide_type": "fragment"
    }
   },
   "source": [
    "- [Jupyter Hub](https://jupyterhub.readthedocs.io/): Enviroment to serve notebooks to multiple users"
   ]
  },
  {
   "cell_type": "markdown",
   "id": "40965417",
   "metadata": {
    "slideshow": {
     "slide_type": "fragment"
    }
   },
   "source": [
    "- [JupyterLab](https://jupyterlab.readthedocs.io/en/stable/): The future of Jupyter let's  [try](https://jupyter.org/try-jupyter/lab/?path=notebooks%2FIntro.ipynb)"
   ]
  },
  {
   "cell_type": "markdown",
   "id": "0420310e",
   "metadata": {
    "slideshow": {
     "slide_type": "slide"
    }
   },
   "source": [
    "# Criticism to the Notebook"
   ]
  },
  {
   "cell_type": "markdown",
   "id": "923c9755",
   "metadata": {
    "slideshow": {
     "slide_type": "fragment"
    }
   },
   "source": [
    "## I don't like notebooks \n",
    "https://docs.google.com/presentation/d/1n2RlMdmv1p25Xy5thJUhkKGvjtV-dkAIsUXP-AL4ffI/edit#slide=id.g362da58057_0_1"
   ]
  }
 ],
 "metadata": {
  "celltoolbar": "Slideshow",
  "kernelspec": {
   "display_name": "Python 3 (ipykernel)",
   "language": "python",
   "name": "python3"
  },
  "language_info": {
   "codemirror_mode": {
    "name": "ipython",
    "version": 3
   },
   "file_extension": ".py",
   "mimetype": "text/x-python",
   "name": "python",
   "nbconvert_exporter": "python",
   "pygments_lexer": "ipython3",
   "version": "3.10.12"
  },
  "rise": {
   "autolaunch": true,
   "enable_chalkboard": "true",
   "footer": "<div class=\"tap-footer\"> *** Technologies for advanced programming (TAP) - 2024 ***</div>",
   "header": "<div class=\"tap-header\"></div>",
   "scroll": true,
   "theme": "white"
  }
 },
 "nbformat": 4,
 "nbformat_minor": 5
}
