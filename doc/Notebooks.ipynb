{
 "cells": [
  {
   "cell_type": "markdown",
   "id": "1bc2d24d",
   "metadata": {
    "slideshow": {
     "slide_type": "slide"
    }
   },
   "source": [
    "# (Computational) Notebooks"
   ]
  },
  {
   "cell_type": "markdown",
   "id": "47239e71",
   "metadata": {
    "slideshow": {
     "slide_type": "subslide"
    }
   },
   "source": [
    "## Are we going to make computations using notebooks ?"
   ]
  },
  {
   "cell_type": "markdown",
   "id": "0027dc46",
   "metadata": {
    "slideshow": {
     "slide_type": "fragment"
    }
   },
   "source": [
    "![](images/physical-notebook.png)"
   ]
  },
  {
   "cell_type": "markdown",
   "id": "3abce076",
   "metadata": {
    "slideshow": {
     "slide_type": "subslide"
    }
   },
   "source": [
    "## There are some great examples"
   ]
  },
  {
   "cell_type": "markdown",
   "id": "aafea7da",
   "metadata": {
    "cell_style": "split",
    "slideshow": {
     "slide_type": "subslide"
    }
   },
   "source": [
    "![](images/leonardo-ritratto.png)\n"
   ]
  },
  {
   "cell_type": "markdown",
   "id": "68726d2e",
   "metadata": {
    "cell_style": "split",
    "slideshow": {
     "slide_type": "fragment"
    }
   },
   "source": [
    "![](images/Codex_Atlanticus.jpg)\n",
    "\n",
    "Codex Atlanticus"
   ]
  },
  {
   "cell_type": "markdown",
   "id": "d8788ff2",
   "metadata": {
    "cell_style": "center",
    "slideshow": {
     "slide_type": "skip"
    }
   },
   "source": []
  },
  {
   "cell_type": "markdown",
   "id": "b23219fb",
   "metadata": {
    "cell_style": "split",
    "slideshow": {
     "slide_type": "subslide"
    }
   },
   "source": [
    "![](images/Albert_Einstein_Head.jpg)"
   ]
  },
  {
   "cell_type": "markdown",
   "id": "d4a49e12",
   "metadata": {
    "cell_style": "split",
    "slideshow": {
     "slide_type": "fragment"
    }
   },
   "source": [
    "![](images/einstein.png)\n",
    "Einstain's scratch book - calculations on gravity"
   ]
  },
  {
   "cell_type": "markdown",
   "id": "4c334ff9",
   "metadata": {
    "slideshow": {
     "slide_type": "subslide"
    }
   },
   "source": [
    "## Use a real notebook!"
   ]
  },
  {
   "cell_type": "markdown",
   "id": "4c870b6e",
   "metadata": {
    "slideshow": {
     "slide_type": "fragment"
    }
   },
   "source": [
    "![](images/notebook-computer.jpg)"
   ]
  },
  {
   "cell_type": "markdown",
   "id": "5393298e",
   "metadata": {
    "slideshow": {
     "slide_type": "subslide"
    }
   },
   "source": [
    "## To get value you need lot of time"
   ]
  },
  {
   "cell_type": "markdown",
   "id": "bc456084",
   "metadata": {
    "slideshow": {
     "slide_type": "fragment"
    }
   },
   "source": [
    "![White Rabbit](images/whiterabittdisney.png)"
   ]
  },
  {
   "cell_type": "markdown",
   "id": "8a3eaa92",
   "metadata": {
    "slideshow": {
     "slide_type": "subslide"
    }
   },
   "source": [
    "## We need some magic tools"
   ]
  },
  {
   "cell_type": "markdown",
   "id": "aa14617f",
   "metadata": {
    "slideshow": {
     "slide_type": "fragment"
    }
   },
   "source": [
    "[▶![](http://img.youtube.com/vi/dZewnFXl_MY/0.jpg)](https://www.youtube.com/watch?v=dZewnFXl_MY&start=40)"
   ]
  },
  {
   "cell_type": "markdown",
   "id": "f1177476",
   "metadata": {
    "slideshow": {
     "slide_type": "slide"
    }
   },
   "source": [
    "# Notebook Interface"
   ]
  },
  {
   "cell_type": "markdown",
   "id": "b692b7f0",
   "metadata": {
    "slideshow": {
     "slide_type": "fragment"
    }
   },
   "source": [
    "### An old definition \n",
    "> A notebook interface (also called a computational notebook) is a virtual notebook environment\n",
    "It pairs the functionality of word processing software with both the shell and kernel of that notebook's programming language. Millions of people use notebooks interface to analyze data for science, journalism, and education.\n",
    "[Wikipedia](https://en.wikipedia.org/wiki/Notebook_interface)"
   ]
  },
  {
   "cell_type": "markdown",
   "id": "91353e7b",
   "metadata": {
    "slideshow": {
     "slide_type": "subslide"
    }
   },
   "source": [
    "### Pairs\n",
    "![](images/platone.png)"
   ]
  },
  {
   "cell_type": "markdown",
   "id": "d65f9d34",
   "metadata": {
    "slideshow": {
     "slide_type": "subslide"
    }
   },
   "source": [
    "### A more technical definition\n",
    "> A notebook is a shareable document that combines computer code, plain language descriptions, data, rich visualizations like 3D models, charts, graphs and figures, and interactive controls. A notebook, along with an editor (like JupyterLab), provides a fast interactive environment for prototyping and explaining code, exploring and visualizing data, and sharing ideas with others."
   ]
  },
  {
   "cell_type": "markdown",
   "id": "80d68e85",
   "metadata": {
    "slideshow": {
     "slide_type": "subslide"
    }
   },
   "source": [
    "#### A computational notebook document, shown inside JupyterLab\n",
    "\n",
    "![](https://docs.jupyter.org/en/latest/_images/jupyterlab.png)"
   ]
  },
  {
   "cell_type": "markdown",
   "id": "ac728120",
   "metadata": {
    "slideshow": {
     "slide_type": "subslide"
    }
   },
   "source": [
    "# Origins"
   ]
  },
  {
   "cell_type": "markdown",
   "id": "bfe37586",
   "metadata": {
    "slideshow": {
     "slide_type": "fragment"
    }
   },
   "source": [
    "In 1988 the notebook interface was used as Mathematica frontend\n",
    "\n",
    "![Image](images/wolfram.png)\n",
    "\n",
    "https://writings.stephenwolfram.com/2018/06/weve-come-a-long-way-in-30-years-but-you-havent-seen-anything-yet/\n"
   ]
  },
  {
   "cell_type": "markdown",
   "id": "08f7ced1",
   "metadata": {
    "slideshow": {
     "slide_type": "slide"
    }
   },
   "source": [
    "# Literate Programming"
   ]
  },
  {
   "cell_type": "markdown",
   "id": "7219d9e4",
   "metadata": {
    "cell_style": "split",
    "slideshow": {
     "slide_type": "fragment"
    }
   },
   "source": [
    "![Knuth](images/knuth.jpg)"
   ]
  },
  {
   "cell_type": "markdown",
   "id": "a58de5bf",
   "metadata": {
    "cell_style": "split",
    "slideshow": {
     "slide_type": "fragment"
    }
   },
   "source": [
    "Literate programming: Instead of imagining that our main task is to instruct a computer what to do, let us concentrate rather on explaining to human beings what we want a computer to do. \n",
    "> Donald Knuth (1984)"
   ]
  },
  {
   "cell_type": "markdown",
   "id": "40b018e2",
   "metadata": {
    "slideshow": {
     "slide_type": "subslide"
    }
   },
   "source": [
    "![](images/knuth-vs-mcilroy.png)\n",
    "\n",
    "Source: https://catonmat.net/knuth-vs-mcilroy"
   ]
  },
  {
   "cell_type": "markdown",
   "id": "3835d0f9",
   "metadata": {
    "cell_style": "split",
    "slideshow": {
     "slide_type": "subslide"
    }
   },
   "source": [
    "![Perez](images/fperez.jpg)"
   ]
  },
  {
   "cell_type": "markdown",
   "id": "fedc790c",
   "metadata": {
    "cell_style": "split",
    "slideshow": {
     "slide_type": "fragment"
    }
   },
   "source": [
    "**Literate computing** A literate computing environment is one that allows users not only to execute commands interactively but also to store in a literate document format the results of these commands along with figures and free-form text that can include formatted mathematical expressions.\n",
    "> Millman KJ and Perez F (2014) Implementing Reproducible Research"
   ]
  },
  {
   "cell_type": "markdown",
   "id": "16dfcea8",
   "metadata": {
    "slideshow": {
     "slide_type": "subslide"
    }
   },
   "source": [
    "## Developing open source scientific practice\n",
    "[Chapter in Reproducible Research](doc/Millman_Perez_chapter.pdf)"
   ]
  },
  {
   "cell_type": "markdown",
   "id": "483ea285",
   "metadata": {
    "slideshow": {
     "slide_type": "subslide"
    }
   },
   "source": [
    "Reproducibility in computational research requires:"
   ]
  },
  {
   "cell_type": "markdown",
   "id": "67a29b26",
   "metadata": {
    "slideshow": {
     "slide_type": "fragment"
    }
   },
   "source": [
    "1. sharing of scientific software, data, and knowledge necessary for reproducible research;"
   ]
  },
  {
   "cell_type": "markdown",
   "id": "fda0aaa9",
   "metadata": {
    "slideshow": {
     "slide_type": "fragment"
    }
   },
   "source": [
    "2. readable, tested, validated, and documented software as the basis for reliable scientific\n",
    "outcomes; "
   ]
  },
  {
   "cell_type": "markdown",
   "id": "cea220de",
   "metadata": {
    "slideshow": {
     "slide_type": "fragment"
    }
   },
   "source": [
    "3. high standards of computational literacy in the education of mathematicians,\n",
    "scientists, and engineers; "
   ]
  },
  {
   "cell_type": "markdown",
   "id": "ac05b918",
   "metadata": {
    "slideshow": {
     "slide_type": "fragment"
    }
   },
   "source": [
    "4. open source software developed by collaborative,\n",
    "meritocratic communities of practice."
   ]
  },
  {
   "cell_type": "markdown",
   "id": "e0fff25d",
   "metadata": {
    "slideshow": {
     "slide_type": "subslide"
    }
   },
   "source": [
    "# What is a notebook then ?"
   ]
  },
  {
   "cell_type": "markdown",
   "id": "a32a62c5",
   "metadata": {
    "cell_style": "split",
    "slideshow": {
     "slide_type": "subslide"
    }
   },
   "source": [
    "![](images/mikebostock.jpg)"
   ]
  },
  {
   "cell_type": "markdown",
   "id": "bd94775f",
   "metadata": {
    "cell_style": "split",
    "slideshow": {
     "slide_type": "fragment"
    }
   },
   "source": [
    "“A Notebook is an interactive, editable document defined by code. It’s a computer program, but one that’s designed to be easier to read and write by humans.” \n",
    "> Mike Bostock (creator of D3.js, founder of https://observablehq.com/)"
   ]
  },
  {
   "cell_type": "markdown",
   "id": "55efd130",
   "metadata": {
    "slideshow": {
     "slide_type": "skip"
    }
   },
   "source": []
  },
  {
   "cell_type": "markdown",
   "id": "271522a0",
   "metadata": {
    "cell_style": "split",
    "slideshow": {
     "slide_type": "subslide"
    }
   },
   "source": [
    "![](images/mufford.jpg)"
   ]
  },
  {
   "cell_type": "markdown",
   "id": "b5be9e74",
   "metadata": {
    "cell_style": "split",
    "slideshow": {
     "slide_type": "fragment"
    }
   },
   "source": [
    "“When we look at the future and we try to think what does it look like to work with data, we think it looks an awful lot like a notebook experience.”  \n",
    "> Michelle Ufford (http://noteable.io/, formely Head of Data Netflix)"
   ]
  },
  {
   "cell_type": "markdown",
   "id": "129bada7",
   "metadata": {
    "slideshow": {
     "slide_type": "slide"
    }
   },
   "source": [
    "# Use Cases"
   ]
  },
  {
   "cell_type": "markdown",
   "id": "439ef7bb",
   "metadata": {
    "slideshow": {
     "slide_type": "subslide"
    }
   },
   "source": [
    "# Netflix"
   ]
  },
  {
   "cell_type": "markdown",
   "id": "33abd722",
   "metadata": {
    "slideshow": {
     "slide_type": "subslide"
    }
   },
   "source": [
    "## Increase of roles around data"
   ]
  },
  {
   "cell_type": "markdown",
   "id": "6420fb09",
   "metadata": {
    "slideshow": {
     "slide_type": "fragment"
    }
   },
   "source": [
    "![Image](images/notebooks-everywhere-netflix.jpg)\n"
   ]
  },
  {
   "cell_type": "markdown",
   "id": "12b87508",
   "metadata": {
    "slideshow": {
     "slide_type": "subslide"
    }
   },
   "source": [
    "## An interview at Software Engineer Daily\n",
    "https://softwareengineeringdaily.com/2019/01/15/notebooks-at-netflix-with-matthew-seal/"
   ]
  },
  {
   "cell_type": "markdown",
   "id": "e8854835",
   "metadata": {
    "cell_style": "split",
    "slideshow": {
     "slide_type": "fragment"
    }
   },
   "source": [
    "Over the last 10 years, data engineering has become a key component\n",
    "of what makes Netflix successful. There are many different engineering roles who interact with\n",
    "the data infrastructure at Netflix. These include data analysts, machine learning scientists,\n",
    "analytics engineers and software engineers."
   ]
  },
  {
   "cell_type": "markdown",
   "id": "b975ff7b",
   "metadata": {
    "cell_style": "split",
    "slideshow": {
     "slide_type": "fragment"
    }
   },
   "source": [
    "As data engineering and data science has grown, the tooling has expanded. The people in\n",
    "different data roles at Netflix might use Apache Spark, or Presto, or Python, or Scala, or SQL, or\n",
    "many other applications to study data. But in recent years, there is one tool that has stood out\n",
    "for its ability to be distinctly useful - Jupyter Notebooks. "
   ]
  },
  {
   "cell_type": "markdown",
   "id": "c8541883",
   "metadata": {
    "cell_style": "center",
    "slideshow": {
     "slide_type": "subslide"
    }
   },
   "source": [
    "JM: For an engineer at Netflix, for let’s say a machine learning researcher, a data\n",
    "scientist, one of these data roles that are using a notebook, what have the notebooks replaced?\n",
    "What were they using before that?"
   ]
  },
  {
   "cell_type": "markdown",
   "id": "b168be9d",
   "metadata": {
    "cell_style": "center",
    "slideshow": {
     "slide_type": "subslide"
    }
   },
   "source": [
    "MS: Yeah. I think it’s an interesting question. So to give a little bit of context, so at\n",
    "Netflix as you’ve mentioned, it’s not just like a few users using this. I think it’s something like 10\n",
    "or 12% of all Netflix employees have edited a notebook in the past month. The use case –\n",
    "Where they were used before for tooling was it was a mix of things. It was either very\n",
    "unorganized. It was something like I have just some scripts that I have somewhere in S3 and\n",
    "I’ve put them there and then I forget about them, and the next person comes along, has to kind\n",
    "of rewrite stuff, because they don’t know where or how I organize my code."
   ]
  },
  {
   "cell_type": "markdown",
   "id": "f3fe70bf",
   "metadata": {
    "slideshow": {
     "slide_type": "subslide"
    }
   },
   "source": [
    "## Pay Pal"
   ]
  },
  {
   "cell_type": "markdown",
   "id": "dba9642f",
   "metadata": {
    "slideshow": {
     "slide_type": "fragment"
    }
   },
   "source": [
    "### Use case: Need for a centralized (and explanatory) reference"
   ]
  },
  {
   "cell_type": "markdown",
   "id": "801d2579",
   "metadata": {
    "cell_style": "split",
    "slideshow": {
     "slide_type": "fragment"
    }
   },
   "source": [
    "![](images/paypal-notebooks-at-jupytercon-2018-8-638.jpg)"
   ]
  },
  {
   "cell_type": "markdown",
   "id": "8a3d513b",
   "metadata": {
    "cell_style": "split",
    "slideshow": {
     "slide_type": "fragment"
    }
   },
   "source": [
    "https://medium.com/paypal-engineering/paypal-notebooks-powered-by-jupyter-fd0067bd00b0\n",
    "\n",
    "Extension\n",
    "https://ppextensions.readthedocs.io/en/latest/"
   ]
  },
  {
   "cell_type": "markdown",
   "id": "5090f697",
   "metadata": {
    "slideshow": {
     "slide_type": "subslide"
    }
   },
   "source": [
    "## Adobe "
   ]
  },
  {
   "cell_type": "markdown",
   "id": "0c03ffab",
   "metadata": {
    "cell_style": "split",
    "slideshow": {
     "slide_type": "fragment"
    }
   },
   "source": [
    "![](images/jupyterlab_launcher_adobe.png)"
   ]
  },
  {
   "cell_type": "markdown",
   "id": "07bcfc35",
   "metadata": {
    "cell_style": "split",
    "slideshow": {
     "slide_type": "fragment"
    }
   },
   "source": [
    "https://medium.com/adobetech/reimagining-jupyter-notebooks-for-enterprise-scale-8bc6340d504a\n",
    "\n",
    "Extension\n",
    "- Parameterized notebooks\n",
    "- Recipes"
   ]
  },
  {
   "cell_type": "markdown",
   "id": "cd9379cc",
   "metadata": {
    "slideshow": {
     "slide_type": "skip"
    }
   },
   "source": []
  },
  {
   "cell_type": "markdown",
   "id": "378751d2",
   "metadata": {
    "slideshow": {
     "slide_type": "subslide"
    }
   },
   "source": [
    "# Bring Your Learning to Life\n",
    "![Image](images/oreilly.svg)\n",
    "\n",
    "For a limited time only, you can preview one of our new premium content formats that will soon require an account upgrade to access. Don’t just learn—do. Apply the skills you’re reading about in real time with interactive Jupyter Notebooks.\n",
    "\n",
    "- Practice while you learn with right-sized interactive examples and exercises\n",
    "- Input, edit, run code, and render live results inline with the author’s explanation\n",
    "- Start learning fast—there’s no software to install\n",
    "- Download notebooks to read, review, and practice with later\n",
    "\n",
    "https://www.oreilly.com/online-learning/introducing-jupyter-notebooks.html"
   ]
  },
  {
   "cell_type": "markdown",
   "id": "0bf83318",
   "metadata": {
    "slideshow": {
     "slide_type": "slide"
    }
   },
   "source": [
    "# Interest over time"
   ]
  },
  {
   "cell_type": "markdown",
   "id": "98e4d934",
   "metadata": {
    "slideshow": {
     "slide_type": "fragment"
    }
   },
   "source": [
    "![](images/googletrends.png)\n",
    "https://trends.google.com/trends/explore?date=2014-01-03%202024-02-03&q=jupyter,colab,Rstudio,kaggle,databricks&hl=en"
   ]
  },
  {
   "cell_type": "markdown",
   "id": "b8d193b8",
   "metadata": {
    "slideshow": {
     "slide_type": "slide"
    }
   },
   "source": [
    "## List of Notebooks"
   ]
  },
  {
   "cell_type": "markdown",
   "id": "a6896e2f",
   "metadata": {
    "cell_style": "center",
    "slideshow": {
     "slide_type": "subslide"
    }
   },
   "source": [
    "### Jupyter \n",
    "- [Jupyter](https://jupyter.org/): Jupyter Notebook and Jupyter Lab "
   ]
  },
  {
   "cell_type": "markdown",
   "id": "8b63ce15",
   "metadata": {
    "slideshow": {
     "slide_type": "subslide"
    }
   },
   "source": [
    "### Jupyter Compatible "
   ]
  },
  {
   "cell_type": "markdown",
   "id": "aba87913",
   "metadata": {
    "cell_style": "split",
    "slideshow": {
     "slide_type": "subslide"
    }
   },
   "source": [
    "#### SaaS\n",
    "- [Colab](https://colab.research.google.com/): Google Colaboratory\n",
    "- [Amazon SageMaker](https://aws.amazon.com/sagemaker/notebooks/): Fully managed notebooks in JupyterLab for exploring data and building ML models\n",
    "- [Azure Machine Learning](https://azure.microsoft.com/en-us/products/machine-learning#features): Build deep-learning models in tools such as Visual Studio Code and Jupyter Notebooks"
   ]
  },
  {
   "cell_type": "markdown",
   "id": "572dac75",
   "metadata": {
    "cell_style": "split",
    "slideshow": {
     "slide_type": "fragment"
    }
   },
   "source": [
    "### IDE\n",
    "- [JetBrains Datalore](https://www.jetbrains.com/datalore/features/notebooks/): Datalore gives you smart tools to work with Jupyter notebooks.\n",
    "- [VSCode](https://code.visualstudio.com/docs/datascience/jupyter-notebooks): Visual Studio Code supports working with Jupyter Notebooks natively,\n",
    "- [AzureDataStudio](https://learn.microsoft.com/en-gb/azure-data-studio/notebooks/notebooks-guidance): Support in Azure Data Studio"
   ]
  },
  {
   "cell_type": "markdown",
   "id": "d7471d23",
   "metadata": {
    "slideshow": {
     "slide_type": "subslide"
    }
   },
   "source": [
    "## Other Notebooks\n",
    "https://en.wikipedia.org/wiki/Notebook_interface"
   ]
  }
 ],
 "metadata": {
  "celltoolbar": "Slideshow",
  "kernelspec": {
   "display_name": "Python 3 (ipykernel)",
   "language": "python",
   "name": "python3"
  },
  "language_info": {
   "codemirror_mode": {
    "name": "ipython",
    "version": 3
   },
   "file_extension": ".py",
   "mimetype": "text/x-python",
   "name": "python",
   "nbconvert_exporter": "python",
   "pygments_lexer": "ipython3",
   "version": "3.10.12"
  },
  "rise": {
   "autolaunch": true,
   "enable_chalkboard": "true",
   "footer": "<div class=\"tap-footer\"> *** Technologies for advanced programming (TAP) - 2024 ***</div>",
   "header": "<div class=\"tap-header\"></div>",
   "scroll": true,
   "theme": "white"
  }
 },
 "nbformat": 4,
 "nbformat_minor": 5
}
