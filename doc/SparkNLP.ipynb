{
 "cells": [
  {
   "cell_type": "markdown",
   "metadata": {
    "slideshow": {
     "slide_type": "slide"
    }
   },
   "source": [
    "# Apache Spark NLP\n",
    "\n",
    "https://github.com/JohnSnowLabs/spark-nlp/releases/tag/5.3.3\n",
    "\n",
    "New Home \n",
    "https://sparknlp.org/\n"
   ]
  },
  {
   "cell_type": "markdown",
   "metadata": {},
   "source": [
    "## Install\n",
    "https://sparknlp.org/docs/en/install#python\n",
    "\n",
    "```bash\n",
    "pip install spark-nlp==5.3.3\n",
    "```"
   ]
  },
  {
   "cell_type": "markdown",
   "metadata": {},
   "source": [
    "Before launch Jupyter \n",
    "```bash\n",
    "export JAVA_HOME=\"/usr/lib/jvm/java-8-openjdk-amd64/\"\n",
    "export SPARK_HOME=\"/home/tap/spark\"\n",
    "```"
   ]
  },
  {
   "cell_type": "code",
   "execution_count": 1,
   "metadata": {},
   "outputs": [],
   "source": [
    "import findspark\n",
    "import pyspark\n",
    "import sparknlp\n",
    "from pyspark.sql import SparkSession\n"
   ]
  },
  {
   "cell_type": "code",
   "execution_count": null,
   "metadata": {},
   "outputs": [],
   "source": [
    "findspark.find() \n",
    "findspark"
   ]
  },
  {
   "cell_type": "code",
   "execution_count": null,
   "metadata": {},
   "outputs": [],
   "source": [
    "spark = SparkSession.builder \\\n",
    "    .appName(\"Spark NLP\")\\\n",
    "    .master(\"local[8]\")\\\n",
    "    .config(\"spark.driver.memory\",\"16G\")\\\n",
    "    .config(\"spark.driver.maxResultSize\", \"0\") \\\n",
    "    .config(\"spark.kryoserializer.buffer.max\", \"2000M\")\\\n",
    "    .config(\"spark.jars.packages\", \"com.johnsnowlabs.nlp:spark-nlp_2.12:5.3.3\")\\\n",
    "    .getOrCreate()"
   ]
  },
  {
   "cell_type": "code",
   "execution_count": null,
   "metadata": {},
   "outputs": [],
   "source": [
    "sparknlp.start(aarch64=True)"
   ]
  },
  {
   "cell_type": "code",
   "execution_count": null,
   "metadata": {},
   "outputs": [],
   "source": [
    "print(\"Spark NLP version: \", sparknlp.version())\n",
    "print(\"Apache Spark version: \", spark.version)"
   ]
  },
  {
   "cell_type": "code",
   "execution_count": null,
   "metadata": {},
   "outputs": [],
   "source": [
    "%%bash \n",
    "java -version"
   ]
  },
  {
   "cell_type": "markdown",
   "metadata": {},
   "source": [
    "## Name Entity Recognition\n",
    "https://www.johnsnowlabs.com/visualizing-named-entities-with-spark-nlp/"
   ]
  },
  {
   "cell_type": "markdown",
   "metadata": {},
   "source": [
    "### Pretrained Pipeline"
   ]
  },
  {
   "cell_type": "code",
   "execution_count": null,
   "metadata": {},
   "outputs": [],
   "source": [
    "from sparknlp.pretrained import PretrainedPipeline\n",
    "pipeline = PretrainedPipeline('entity_recognizer_lg', lang = 'it')"
   ]
  },
  {
   "cell_type": "code",
   "execution_count": null,
   "metadata": {},
   "outputs": [],
   "source": [
    "text =\"\"\"\n",
    "Nel corso di \"Technologies for Advanced Programming\" del Corso di Laurea in Informatica (L31)\n",
    "all'Università di Catania si studiano un sacco di tecnologie.\n",
    "Il professore Salvatore Nicotra usa Linux con CPU AMD,\n",
    "ma grazie al supporto di John Snow Labs ed è un pò di pazienza\n",
    "nel 2024 mostrerà questo esempio ai suoi studenti, il 6 Giugno 2023\n",
    "durante la lezione al Dipartimento di Matematica e Informatica\n",
    "\"\"\"\n",
    "\n",
    "annotations =  pipeline.fullAnnotate(text)[0]"
   ]
  },
  {
   "cell_type": "code",
   "execution_count": null,
   "metadata": {},
   "outputs": [],
   "source": [
    "annotations"
   ]
  },
  {
   "cell_type": "code",
   "execution_count": null,
   "metadata": {},
   "outputs": [],
   "source": [
    "# First import NerVisualizer\n",
    "from sparknlp_display import NerVisualizer\n",
    "# Display the results\n",
    "visualiser = NerVisualizer()\n",
    "visualiser.display(annotations, label_col='entities', document_col='document', save_path=f\"display_recognize_entities.html\")\n"
   ]
  },
  {
   "cell_type": "markdown",
   "metadata": {
    "slideshow": {
     "slide_type": "slide"
    }
   },
   "source": [
    "# Docker \n",
    "\n",
    "docker build sparknlp  --tag tap:sparknlp\n",
    "\n",
    "docker run -v sparknlplibs:/ivy2/.ivy2 -v /home/tap/tap-workspace/tap2024/sparknlp/code/:/code  --network tap --rm -it tap:sparknlp /opt/spark/bin/spark-submit --conf spark.driver.extraJavaOptions=\"-Divy.cache.dir=/tmp -Divy.home=/ivy2\" --packages com.johnsnowlabs.nlp:spark-nlp_2.12:5.3.3  /code/standalone_ner.py\n",
    "\n",
    "docker run -v /home/tap/tap-workspace/tap2024/sparknlp/code/:/code  --network tap --rm -it tap:sparknlp /opt/spark/bin/spark-submit --conf spark.driver.extraJavaOptions=\"-Divy.cache.dir=/tmp -Divy.home=/tmp\" --conf spark.jsl.settings.pretrained.cache_folder=\"/tmp\"   --packages com.johnsnowlabs.nlp:spark-nlp_2.12:5.3.3  /code/standalone_ner.py"
   ]
  }
 ],
 "metadata": {
  "celltoolbar": "Slideshow",
  "kernelspec": {
   "display_name": "Python 3 (ipykernel)",
   "language": "python",
   "name": "python3"
  },
  "language_info": {
   "codemirror_mode": {
    "name": "ipython",
    "version": 3
   },
   "file_extension": ".py",
   "mimetype": "text/x-python",
   "name": "python",
   "nbconvert_exporter": "python",
   "pygments_lexer": "ipython3",
   "version": "3.10.12"
  },
  "rise": {
   "autolaunch": true,
   "enable_chalkboard": "true",
   "footer": "<div class=\"tap-footer\"> *** Technologies for advanced programming (TAP) - 2024 ***</div>",
   "header": "<div class=\"tap-header\"></div>",
   "scroll": true,
   "theme": "white"
  }
 },
 "nbformat": 4,
 "nbformat_minor": 4
}
